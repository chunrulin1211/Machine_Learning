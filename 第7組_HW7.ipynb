{
 "cells": [
  {
   "cell_type": "markdown",
   "metadata": {},
   "source": [
    "#### Topic: Hw7, Machine-Learning-2019-fall\n",
    "#### Date: 2019-12-23\n",
    "#### Author: 林俊儒(B063040058), 王譽鈞(B065040034)\n",
    "---\n",
    "#### 題目說明：使用 Q-Learning 訓練\n",
    "#### 能夠在 OpenAI Gym FrozenLake-v0 的環境中成功達成任務的 Agent。"
   ]
  },
  {
   "cell_type": "code",
   "execution_count": 1,
   "metadata": {},
   "outputs": [],
   "source": [
    "import gym\n",
    "import numpy as np\n",
    "import time, os\n",
    "from matplotlib import pyplot as plt"
   ]
  },
  {
   "cell_type": "markdown",
   "metadata": {},
   "source": [
    "#### 先宣告 agent 需要的 class: RL_Q_learning \n",
    "##### =>  epsilon = 0.9\n",
    "##### =>  learning rate = 0.81\n",
    "##### =>  gamma = 0.96\n",
    "---\n",
    "#### 使用 start() 這個 function 時\n",
    "#### 會訓練我們的 agent 跑10000次 \n",
    "#### 訓練時 close_epsilon=False\n",
    "##### (如果想要的話) 可以另外把訓練完的 Q-table \n",
    "##### 透過 pickle 存起來( 包在 .save_Qdata()這個function )"
   ]
  },
  {
   "cell_type": "code",
   "execution_count": 4,
   "metadata": {},
   "outputs": [],
   "source": [
    "import pickle\n",
    "class RL_Q_learning():\n",
    "    def __init__(self):\n",
    "        print('Agent created') \n",
    "    \n",
    "    def start(self):\n",
    "        self.epsilon = 0.9\n",
    "        self.lr_rate = 0.81\n",
    "        self.gamma = 0.96\n",
    "        \n",
    "        self.env = gym.make('FrozenLake-v0', is_slippery=True)\n",
    "        self.Q = np.zeros((self.env.observation_space.n, self.env.action_space.n))\n",
    "        self.per_episode_reward_list = []\n",
    "        self.accumulate_reward_list = []\n",
    "        self.accumulate_episode_list = []\n",
    "        \n",
    "        print(\"\")\n",
    "        print(\"使用的超參數:\")\n",
    "        print(\"epsilon =\", self.epsilon)\n",
    "        print(\"learning rate =\", self.lr_rate)\n",
    "        print(\"gamma =\", self.gamma)\n",
    "        print(\"\")\n",
    "        \n",
    "        print(\"Original Q-table:\")\n",
    "        self.show_Q()\n",
    "        print(\"\")\n",
    "        \n",
    "        success_state = 15\n",
    "        succ_count = 0;\n",
    "        fail_count = 0;\n",
    "        total_train_episodes = 10000\n",
    "        max_try_steps = 200\n",
    "        total_score = 0\n",
    "        \n",
    "        # Start train\n",
    "        for episode in range(total_train_episodes):\n",
    "            \n",
    "            state = self.env.reset()\n",
    "            try_step = 0\n",
    "            episode_reward = 0\n",
    "            \n",
    "            while try_step < max_try_steps:\n",
    "                \n",
    "                action = self.take_action(state, close_epsilon=False)\n",
    "                next_state, reward, done, info = self.env.step(action)\n",
    "                self.learn(state, next_state, reward, action)\n",
    "                state = next_state\n",
    "                \n",
    "                episode_reward += reward\n",
    "                if state==success_state: succ_count += 1\n",
    "                if done: break\n",
    "\n",
    "            total_score += episode_reward\n",
    "            if state!=success_state: fail_count += 1\n",
    "            \n",
    "            self.per_episode_reward_list.append(episode_reward)\n",
    "            self.accumulate_reward_list.append(total_score)\n",
    "            self.accumulate_episode_list.append(episode)\n",
    "        # Finish train\n",
    "        \n",
    "        print(\"After-train Q-table:\")\n",
    "        self.show_Q()\n",
    "        print(\"\")\n",
    "        \n",
    "        print(\"----------------------------------\")\n",
    "        print(\"total train episodes: 10000\")\n",
    "        print(\"success times:\", succ_count)\n",
    "        print(\"fail    times:\", fail_count)\n",
    "        print(\"----------------------------------\")\n",
    "        print(\"\")\n",
    "        \n",
    "        print(\"每一個 Episode 的 Reward (題目定義只有0和1兩種reward):\")\n",
    "        plt.xlabel('each <Episode>')\n",
    "        plt.ylabel('each <Reward>')\n",
    "        plt.title('Each rewards per episode ')\n",
    "        plt.plot(self.accumulate_episode_list, self.per_episode_reward_list, color='r',label = 'per_episode reward')\n",
    "        plt.legend()\n",
    "        plt.show()\n",
    "        print(\"\")\n",
    "        \n",
    "        print(\"隨著 Episode 增加累積的 Reward:\")\n",
    "        plt.xlabel('accumulated <Episode>')\n",
    "        plt.ylabel('accumulated <Reward>')\n",
    "        plt.title('Total rewards change with episode')\n",
    "        plt.plot(self.accumulate_episode_list, self.accumulate_reward_list, color='b',label = 'accumulated reward')\n",
    "        plt.legend()\n",
    "        plt.show()\n",
    "        print(\"\")\n",
    "        \n",
    "        print(\"以上是start()裡面會印的\")\n",
    "        print(\"==================================\")\n",
    "        print(\"\")\n",
    "                \n",
    "    def take_action(self, state, close_epsilon):\n",
    "        action = 0\n",
    "        if (not close_epsilon) and (np.random.uniform(0, 1) < self.epsilon):  #choose random action\n",
    "            action = self.env.action_space.sample()\n",
    "        else:\n",
    "            action = np.argmax(self.Q[state, :])\n",
    "        return action\n",
    "\n",
    "    def learn(self, state, next_state, reward, action):\n",
    "        predict = self.Q[state, action]\n",
    "        target = reward + self.gamma * np.max(self.Q[next_state, :])\n",
    "        self.Q[state, action] = self.Q[state, action] + self.lr_rate * (target - predict)\n",
    "    \n",
    "    def load_Qdata(self):\n",
    "        with open(\"frozenLake_qTable.pkl\", 'rb') as f:\n",
    "            self.Q = pickle.load(f)\n",
    "    \n",
    "    def save_Qdata(self):\n",
    "        with open(\"frozenLake_qTable.pkl\", 'wb') as f:\n",
    "            pickle.dump(self.Q, f)\n",
    "        \n",
    "    def show_Q(self):\n",
    "        print(self.Q)"
   ]
  },
  {
   "cell_type": "markdown",
   "metadata": {},
   "source": [
    "---\n",
    "##### 我們自己測試時 train 完的 Q-table\n",
    "##### 以及藉由這個 Q-table 畫出來的 各格 移動路徑"
   ]
  },
  {
   "cell_type": "markdown",
   "metadata": {},
   "source": [
    "<img src=\"https://i.imgur.com/iG1FMj3.jpg\" width=\"60%\"/>\n",
    "\n",
    "<img src=\"https://i.imgur.com/zcA0BJK.png\" width=\"50%\"/>"
   ]
  },
  {
   "cell_type": "markdown",
   "metadata": {},
   "source": [
    "---\n",
    "#### 使用作業要求的模板 測試我們的 agent \n",
    "#### close_epsilon = True"
   ]
  },
  {
   "cell_type": "code",
   "execution_count": 5,
   "metadata": {},
   "outputs": [
    {
     "name": "stdout",
     "output_type": "stream",
     "text": [
      "Agent created\n",
      "\n",
      "使用的超參數:\n",
      "epsilon = 0.9\n",
      "learning rate = 0.81\n",
      "gamma = 0.96\n",
      "\n",
      "Original Q-table:\n",
      "[[0. 0. 0. 0.]\n",
      " [0. 0. 0. 0.]\n",
      " [0. 0. 0. 0.]\n",
      " [0. 0. 0. 0.]\n",
      " [0. 0. 0. 0.]\n",
      " [0. 0. 0. 0.]\n",
      " [0. 0. 0. 0.]\n",
      " [0. 0. 0. 0.]\n",
      " [0. 0. 0. 0.]\n",
      " [0. 0. 0. 0.]\n",
      " [0. 0. 0. 0.]\n",
      " [0. 0. 0. 0.]\n",
      " [0. 0. 0. 0.]\n",
      " [0. 0. 0. 0.]\n",
      " [0. 0. 0. 0.]\n",
      " [0. 0. 0. 0.]]\n",
      "\n",
      "After-train Q-table:\n",
      "[[6.64058995e-01 6.83879942e-01 5.79364983e-01 5.40638863e-01]\n",
      " [1.49914000e-04 4.28428369e-01 5.70777682e-01 5.18309195e-01]\n",
      " [5.22147847e-01 4.99970688e-01 5.40291185e-01 4.96727986e-01]\n",
      " [8.03780770e-02 4.99807861e-01 4.84599140e-01 4.97848433e-01]\n",
      " [7.46982306e-01 6.85424178e-01 1.68781552e-04 7.46455381e-01]\n",
      " [0.00000000e+00 0.00000000e+00 0.00000000e+00 0.00000000e+00]\n",
      " [5.45032966e-01 3.22535850e-03 8.10480648e-01 1.92220692e-02]\n",
      " [0.00000000e+00 0.00000000e+00 0.00000000e+00 0.00000000e+00]\n",
      " [7.12985596e-01 1.28657810e-01 8.65092101e-01 7.97638416e-01]\n",
      " [8.66052365e-01 9.03809140e-01 4.95113843e-01 8.73406560e-01]\n",
      " [9.38741114e-01 9.39753183e-04 4.49311382e-01 1.85201564e-02]\n",
      " [0.00000000e+00 0.00000000e+00 0.00000000e+00 0.00000000e+00]\n",
      " [0.00000000e+00 0.00000000e+00 0.00000000e+00 0.00000000e+00]\n",
      " [8.95528124e-01 1.53575322e-01 8.82491275e-01 7.99512545e-04]\n",
      " [8.89964088e-01 9.06661826e-01 9.96109513e-01 8.55284289e-01]\n",
      " [0.00000000e+00 0.00000000e+00 0.00000000e+00 0.00000000e+00]]\n",
      "\n",
      "----------------------------------\n",
      "total train episodes: 10000\n",
      "success times: 185\n",
      "fail    times: 9815\n",
      "----------------------------------\n",
      "\n",
      "每一個 Episode 的 Reward (題目定義只有0和1兩種reward):\n"
     ]
    },
    {
     "data": {
      "image/png": "[encoded data removed]",
      "text/plain": [
       "<Figure size 432x288 with 1 Axes>"
      ]
     },
     "metadata": {
      "needs_background": "light"
     },
     "output_type": "display_data"
    },
    {
     "name": "stdout",
     "output_type": "stream",
     "text": [
      "\n",
      "隨著 Episode 增加累積的 Reward:\n"
     ]
    },
    {
     "data": {
      "image/png": "[encoded data removed]",
      "text/plain": [
       "<Figure size 432x288 with 1 Axes>"
      ]
     },
     "metadata": {
      "needs_background": "light"
     },
     "output_type": "display_data"
    },
    {
     "name": "stdout",
     "output_type": "stream",
     "text": [
      "\n",
      "以上是start()裡面會印的\n",
      "==================================\n",
      "\n",
      "0.055\n",
      "RL Hw1 step 5 Score: 7.425\n"
     ]
    }
   ],
   "source": [
    "if __name__ == '__main__':\n",
    "    agent = RL_Q_learning()\n",
    "    agent.start()\n",
    "\n",
    "    import gym\n",
    "    env = gym.make('FrozenLake-v0')\n",
    "    __score = 0\n",
    "    for i in range(1000):\n",
    "        total_reward = 0\n",
    "        state = env.reset()\n",
    "        while True:\n",
    "            action = agent.take_action(state, close_epsilon=True)\n",
    "            next_state, reward, done, _ = env.step(action)\n",
    "            state = next_state\n",
    "            total_reward += reward\n",
    "            if done:\n",
    "                break\n",
    "        __score += total_reward\n",
    "    __score /= 1000\n",
    "    print(__score)\n",
    "    print(\"RL Hw1 step 5 Score:\", min(__score * 135, 100))"
   ]
  },
  {
   "cell_type": "markdown",
   "metadata": {},
   "source": [
    "---\n",
    "##### 可以看到因為在冰塊上行走時，\n",
    "##### 只有僅僅 1/3 的機率 會真的照想走的方向走\n",
    "##### 因此 1. 即使 Q-table 逐漸成型，成功率(累積的reward數)並沒有快速上升(斜率沒有變大)\n",
    "##### 同時 2. 因為有可能往左右滑，所以在洞旁邊時的策略基本上都背對洞走"
   ]
  },
  {
   "cell_type": "code",
   "execution_count": null,
   "metadata": {},
   "outputs": [],
   "source": []
  }
 ],
 "metadata": {
  "kernelspec": {
   "display_name": "Python 3",
   "language": "python",
   "name": "python3"
  },
  "language_info": {
   "codemirror_mode": {
    "name": "ipython",
    "version": 3
   },
   "file_extension": ".py",
   "mimetype": "text/x-python",
   "name": "python",
   "nbconvert_exporter": "python",
   "pygments_lexer": "ipython3",
   "version": "3.7.4"
  }
 },
 "nbformat": 4,
 "nbformat_minor": 4
}
