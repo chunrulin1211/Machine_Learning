{
 "cells": [
  {
   "cell_type": "markdown",
   "metadata": {},
   "source": [
    "@Topic: Hw1, Machine-Learning-2019-fall\n",
    "\n",
    "@Date: 2019/09/20\n",
    "\n",
    "@Author: 林俊儒(B063040058), 王譽鈞(B065040034)"
   ]
  },
  {
   "cell_type": "markdown",
   "metadata": {},
   "source": [
    "> 藉由input() 輸入一個一元三次方程式 y = f(x) 之係數 $ax^3$ + $bx^2$ + $cx$ + $d$\n",
    "\n",
    "> 係數可為任意整數或小數, 以逗號分開,\n",
    "\n",
    "> 格式： a,b,c,d"
   ]
  },
  {
   "cell_type": "code",
   "execution_count": 48,
   "metadata": {},
   "outputs": [
    {
     "name": "stdin",
     "output_type": "stream",
     "text": [
      "Input the coefs of a third-order equation(format a,b,c,d) >>  0,-1,6,1\n"
     ]
    },
    {
     "name": "stdout",
     "output_type": "stream",
     "text": [
      "You input the coefs:  [0.0, -1.0, 6.0, 1.0]\n"
     ]
    }
   ],
   "source": [
    "coef_str = []  #用來存 字串型態 的輸入，之後會用\n",
    "while(True):\n",
    "    try:  #taking inputs\n",
    "        user_in = list(input(\"Input the coefs of a third-order equation(format a,b,c,d) >> \").split(',') )\n",
    "        coef_str = [user_in[0],user_in[1],user_in[2],user_in[3]]\n",
    "        \n",
    "        #先確認輸入是否 恰為4個\n",
    "        if len(user_in) != 4:\n",
    "            raise ValueError\n",
    "        \n",
    "        user_in = list(map(float, user_in)) #轉浮點數\n",
    "        break #try過程無error\n",
    "    except:\n",
    "        print(\"!!Wrong format!! (notice the comma and all input are floats), format is: a,b,c,d\")\n",
    "\n",
    "print(\"You input the coefs: \", user_in)"
   ]
  },
  {
   "cell_type": "markdown",
   "metadata": {},
   "source": [
    "> 把得到的方程式 f(x) 的係數，做成數學式的字串\n",
    "\n",
    "> 以利輸出圖片時的標示美觀一點"
   ]
  },
  {
   "cell_type": "code",
   "execution_count": 49,
   "metadata": {},
   "outputs": [],
   "source": [
    "x_pow_symbol = ['$x^3$','$x^2$','$x$','']\n",
    "func_name = \"f(x) = \"\n",
    "    \n",
    "highest_flag = False #最高項次印過了沒，False = 還沒\n",
    "for i in range(len(coef_str)):  #i從0~3，係數從 3次方 往下做到 0次方\n",
    "\n",
    "    if user_in[i] == 0: #值為0，只須考慮是否整條式子皆為0\n",
    "        if i == 3 and not highest_flag: func_name += \"0\" #整個方程式 = 0, 補印個0\n",
    "        else: continue ##!!!\n",
    "\n",
    "    if not highest_flag : #非0，最高項次還沒印過，最高項次不用補+號\n",
    "        highest_flag = True\n",
    "        if abs(user_in[i]) != 1: #值非+1非-1，也就是要顯示係數\n",
    "            func_name += coef_str[i] + x_pow_symbol[i]\n",
    "        else: #值+1或-1，-1補印-號就好\n",
    "            if user_in[i]<0: func_name += \"-\" #補印-1\n",
    "            func_name += x_pow_symbol[i] if(i != 3) else \"1\"  #如果是常數項，還是得印 1 出來     \n",
    "\n",
    "    else: #最高項次 已經印過\n",
    "        if abs(user_in[i]) != 1: #值非+1非-1，也就是要顯示係數，正的要補+號\n",
    "            func_name += \"+\" + coef_str[i] + x_pow_symbol[i] if(user_in[i]>0) else coef_str[i] + x_pow_symbol[i]\n",
    "        else : #值+1或-1，不用印係數的數字，正補+號，負補-號就好\n",
    "            func_name += \"+\" if(user_in[i]>0) else \"-\"\n",
    "            func_name += x_pow_symbol[i] if(i != 3) else \"1\"  #如果是常數項，還是得印 1 出來 \n"
   ]
  },
  {
   "cell_type": "markdown",
   "metadata": {},
   "source": [
    "> 根據user輸入的 coef 定義 原function和 微分後的function"
   ]
  },
  {
   "cell_type": "code",
   "execution_count": 50,
   "metadata": {},
   "outputs": [],
   "source": [
    "def user_func(x, user_in):\n",
    "    return user_in[0]*x**3 + user_in[1]*x**2 + user_in[2]*x**1 + user_in[3]*x**0\n",
    "def diff_func(x, user_in):\n",
    "    return 3*user_in[0]*x**2 + 2*user_in[1]*x**1 + 1*user_in[2]*x**0 "
   ]
  },
  {
   "cell_type": "markdown",
   "metadata": {},
   "source": [
    "> 跑function圖\n",
    "\n",
    "> 顯示的範圍目前固定在 [ -100 , +100 ]\n",
    "\n",
    "> 可以手動修改程式碼，改變 顯示範圍 與 切的點數量"
   ]
  },
  {
   "cell_type": "code",
   "execution_count": 51,
   "metadata": {},
   "outputs": [
    {
     "data": {
      "image/png": "[encoded data removed]",
      "text/plain": [
       "<Figure size 432x288 with 1 Axes>"
      ]
     },
     "metadata": {
      "needs_background": "light"
     },
     "output_type": "display_data"
    }
   ],
   "source": [
    "import matplotlib.pyplot as plt\n",
    "import numpy as np\n",
    "#%matplotlib inline\n",
    "\n",
    "left_edge = -100 #左邊界\n",
    "right_edge = 100 #右邊界\n",
    "cut_num = 1000  #切1000個點\n",
    "\n",
    "X = np.linspace( left_edge, right_edge, cut_num) # x值的list  \n",
    "Zero = np.linspace(0,0,cut_num)  #X軸\n",
    "Y = np.array([ user_func(x,user_in) for x in X]) # y值的list\n",
    "plt.plot(X, Y,color='purple',lw=2,label=func_name)  # 畫圖\n",
    "plt.plot(X, Zero,color='gray',lw=2,label='X = 0') # 畫x軸\n",
    "#plt.xlim(2,4)\n",
    "#plt.ylim(5,50)\n",
    "\n",
    "plt.xlabel('x value')\n",
    "plt.ylabel('y value')\n",
    "plt.title('Function')\n",
    "plt.legend()\n",
    "plt.show()"
   ]
  },
  {
   "cell_type": "markdown",
   "metadata": {},
   "source": [
    "> 再藉由 input() 要求輸入 10 點座標\n",
    "\n",
    "> 其中每兩個值代表一個點的 x, y 座標"
   ]
  },
  {
   "cell_type": "code",
   "execution_count": 52,
   "metadata": {},
   "outputs": [
    {
     "name": "stdin",
     "output_type": "stream",
     "text": [
      "Input 10 numbers >>  1,2,3,4,5,6,7,8,9,1\n"
     ]
    },
    {
     "name": "stdout",
     "output_type": "stream",
     "text": [
      "You input the numbers:  [1.0, 2.0, 3.0, 4.0, 5.0, 6.0, 7.0, 8.0, 9.0, 1.0]\n"
     ]
    }
   ],
   "source": [
    "while(True):\n",
    "    try:\n",
    "        user_10_num = list(map(float, input(\"Input 10 numbers >> \").split(',') )) \n",
    "        #確認輸入是否 恰為10個\n",
    "        if len(user_10_num) != 10:\n",
    "            raise ValueError\n",
    "        break;\n",
    "    except:\n",
    "        print(\"!! Wrong format !! (notice the comma and all input are floats), format is: a,b,c,d,e,f,g,h,i,j.\")\n",
    "\n",
    "print(\"You input the numbers: \", user_10_num)"
   ]
  },
  {
   "cell_type": "markdown",
   "metadata": {},
   "source": [
    "> 計算各點位置\n",
    "\n",
    "> 位於曲線之上以紅色點標示、以下的以藍色點標示、在線上的以綠色點標示"
   ]
  },
  {
   "cell_type": "code",
   "execution_count": 56,
   "metadata": {},
   "outputs": [],
   "source": [
    "red_dot = [[],[]]  #紅色點的座標，[][0]=X座標，[][1]=Y座標\n",
    "grn_dot = [[],[]]  #綠色\n",
    "blu_dot = [[],[]]  #藍色\n",
    "for index in range(5):  #兩個兩個跑 user_10_num 這個list內的點\n",
    "    my_x = user_10_num[index*2]\n",
    "    my_y = user_10_num[index*2+1]\n",
    "    if user_func( my_x, user_in) < my_y : #代進去方程式比較小, 畫紅色\n",
    "        red_dot[0] += [my_x]\n",
    "        red_dot[1] += [my_y]\n",
    "    elif user_func( my_x, user_in) == my_y : #相等, 畫綠色\n",
    "        grn_dot[0] += [my_x]\n",
    "        grn_dot[1] += [my_y]\n",
    "    else:  #較大, 畫藍色\n",
    "        blu_dot[0] += [my_x]\n",
    "        blu_dot[1] += [my_y]"
   ]
  },
  {
   "cell_type": "markdown",
   "metadata": {},
   "source": [
    "> 畫圖看點的位置\n",
    "\n",
    "> 有那個顏色的點才畫\n",
    "\n",
    "> 點太接近會被覆蓋"
   ]
  },
  {
   "cell_type": "code",
   "execution_count": 57,
   "metadata": {},
   "outputs": [
    {
     "data": {
      "image/png": "[encoded data removed]",
      "text/plain": [
       "<Figure size 432x288 with 1 Axes>"
      ]
     },
     "metadata": {
      "needs_background": "light"
     },
     "output_type": "display_data"
    }
   ],
   "source": [
    "user_x_num = []\n",
    "for index in range(5):\n",
    "    user_x_num.append(user_10_num[index*2])\n",
    "\n",
    "left_edge = min(user_x_num)-10 #左邊界，暫定為使用者輸入的x最小值 -10\n",
    "right_edge = max(user_x_num)+10 #右邊界，暫定為使用者輸入的x最大值 +10\n",
    "cut_num = 1000  #切1000個點\n",
    "\n",
    "X = np.linspace( left_edge, right_edge, cut_num) # x值的list  \n",
    "Zero = np.linspace(0,0,cut_num)  #X軸\n",
    "Y = np.array([ user_func(x,user_in) for x in X]) # y值的list\n",
    "\n",
    "plt.plot(X, Y,color='purple',lw=2,label=func_name)\n",
    "plt.plot(X, Zero,color='gray',lw=2,label='X = 0')\n",
    "#plt.xlim(0,5)\n",
    "#plt.ylim(-50,50)\n",
    "\n",
    "if len(red_dot[0]) != 0: #有那個顏色的點才畫\n",
    "    plt.plot( red_dot[0], red_dot[1], 'ro', label='Above the line')\n",
    "if len(grn_dot[0]) != 0: \n",
    "    plt.plot( grn_dot[0], grn_dot[1], 'go', label='On the line')\n",
    "if len(blu_dot[0]) != 0: \n",
    "    plt.plot( blu_dot[0], blu_dot[1], 'bo', label='Below the line')\n",
    "\n",
    "plt.xlabel('x value')\n",
    "plt.ylabel('y value')\n",
    "plt.title('Check Point Position')\n",
    "plt.legend()\n",
    "plt.show()"
   ]
  },
  {
   "cell_type": "markdown",
   "metadata": {},
   "source": [
    "> 用梯度下降法 找最高點\n",
    "\n",
    "> 分別 從 x =  0 往 x = 10 的方向\n",
    "\n",
    "> 以及 從 x = 10 往 x =  0 的方向\n",
    "\n",
    "> 兩個方向都找找看\n",
    "\n",
    "> 考慮到範圍只在 0~10，把圖的左右顯示範圍拉到[-5,+15]"
   ]
  },
  {
   "cell_type": "markdown",
   "metadata": {},
   "source": [
    "> 先 從 x =  0 往 x = 10 的方向\n",
    "\n",
    "> 起點畫 藍色，終點畫 紅色"
   ]
  },
  {
   "cell_type": "code",
   "execution_count": 58,
   "metadata": {},
   "outputs": [
    {
     "name": "stdout",
     "output_type": "stream",
     "text": [
      "break3\n",
      "--------------------------------------------------------------------------\n",
      "Local Max from 0: x =  2.9999504170334417  , y =  9.999999997541527  \n",
      "--------------------------------------------------------------------------\n"
     ]
    },
    {
     "data": {
      "image/png": "[encoded data removed]",
      "text/plain": [
       "<Figure size 432x288 with 1 Axes>"
      ]
     },
     "metadata": {
      "needs_background": "light"
     },
     "output_type": "display_data"
    }
   ],
   "source": [
    "left_edge = -5 #左邊界\n",
    "right_edge = 15 #右邊界\n",
    "cut_num = 1000  #切1000個點\n",
    "\n",
    "X = np.linspace( left_edge, right_edge, cut_num) # x值的list  \n",
    "Zero = np.linspace(0,0,cut_num)  #X軸\n",
    "Y = np.array([ user_func(x,user_in) for x in X]) # y值的list\n",
    "\n",
    "plt.plot(X, Y,color='purple',lw=2,label=func_name)\n",
    "plt.plot(X, Zero,color='gray',lw=2,label='X = 0')\n",
    "#plt.xlim(2,4)\n",
    "#plt.ylim(5,50)\n",
    "\n",
    "ln_rate = 0.01  #learning rate\n",
    "max_iter = 1000   #max iterate times\n",
    "eps = 0.0001       #epsilon\n",
    "\n",
    "#從 起點 x = 0 開始 \n",
    "cur_x = 0.0\n",
    "\n",
    "for k in range( max_iter ):\n",
    "    cur_x += ln_rate* diff_func( cur_x, user_in ) #用公式 算下一個 x座標\n",
    "    cur_y = user_func(cur_x, user_in)             #算出對應的 y座標\n",
    "    if abs( diff_func( cur_x, user_in ) ) <= eps : #結束CASE 1: 小於epsilon\n",
    "        break\n",
    "    if cur_x < 0: #結束CASE 2: 小於左邊界 0\n",
    "        cur_x = 0.0 #直接用 左邊界0 當終點\n",
    "        cur_y = user_func(cur_x, user_in)\n",
    "        break\n",
    "    if cur_x > 10: #結束CASE 3: 大於右邊界 10\n",
    "        cur_x = 10.0 #直接用 右邊界10 當終點\n",
    "        cur_y = user_func(cur_x, user_in)\n",
    "        break\n",
    "    plt.plot( [cur_x], [cur_y], 'go') #畫一般點\n",
    "\n",
    "plt.plot( [0.0], [user_func(0.0, user_in)], 'bo', label='Start point') #畫起點\n",
    "plt.plot( [cur_x], [cur_y], 'ro', label='End point') #畫終點\n",
    "\n",
    "print(\"--------------------------------------------------------------------------\")\n",
    "print(\"Local Max from 0: x = \", cur_x, \" , y = \", cur_y, \" \")\n",
    "print(\"--------------------------------------------------------------------------\")\n",
    "\n",
    "plt.xlabel('x value')\n",
    "plt.ylabel('y value')\n",
    "plt.title('Finding Max')\n",
    "plt.legend()\n",
    "plt.show()\n",
    "         "
   ]
  },
  {
   "cell_type": "markdown",
   "metadata": {},
   "source": [
    "> 再 從 x = 10 往 x = 0 的方向\n",
    "\n",
    "> 起點畫 藍色，終點畫 紅色"
   ]
  },
  {
   "cell_type": "code",
   "execution_count": 59,
   "metadata": {},
   "outputs": [
    {
     "name": "stdout",
     "output_type": "stream",
     "text": [
      "break3\n",
      "---------------------------------------------------------------------------\n",
      "Local Max from 10: x =  3.0000495227178923  , y =  9.9999999975475  \n",
      "---------------------------------------------------------------------------\n"
     ]
    },
    {
     "data": {
      "image/png": "[encoded data removed]",
      "text/plain": [
       "<Figure size 432x288 with 1 Axes>"
      ]
     },
     "metadata": {
      "needs_background": "light"
     },
     "output_type": "display_data"
    }
   ],
   "source": [
    "plt.plot(X, Y,color='purple',lw=2,label=func_name)\n",
    "plt.plot(X, Zero,color='gray',lw=2,label='X = 0')\n",
    "#plt.xlim(2,4)\n",
    "#plt.ylim(5,50)\n",
    "\n",
    "ln_rate = 0.01  #learning rate\n",
    "max_iter = 1000   #max iterate times\n",
    "eps = 0.0001       #epsilon\n",
    "\n",
    "#從 起點 x = 10 開始 \n",
    "cur_x = 10.0\n",
    "\n",
    "for k in range( max_iter ):\n",
    "    cur_x += ln_rate* diff_func( cur_x, user_in ) #用公式 算下一個 x座標\n",
    "    cur_y = user_func(cur_x, user_in)             #算出對應的 y座標\n",
    "    if abs( diff_func( cur_x, user_in ) ) <= eps : #結束CASE 1: 小於epsilon\n",
    "        break\n",
    "    if cur_x < 0: #結束CASE 2: 小於左邊界 0\n",
    "        cur_x = 0.0 #直接用 左邊界0 當終點\n",
    "        cur_y = user_func(cur_x, user_in)\n",
    "        break;\n",
    "    if cur_x > 10: #結束CASE 3: 大於右邊界 10\n",
    "        cur_x = 10.0 #直接用 右邊界10 當終點\n",
    "        cur_y = user_func(cur_x, user_in)\n",
    "        break;\n",
    "    plt.plot( [cur_x], [cur_y], 'go') #畫一般點\n",
    "\n",
    "plt.plot( [10.0], [user_func(10.0, user_in)], 'bo', label='Start point') #畫起點\n",
    "plt.plot( [cur_x], [cur_y], 'ro', label='End point') #畫終點\n",
    "\n",
    "print(\"---------------------------------------------------------------------------\")\n",
    "print(\"Local Max from 10: x = \", cur_x, \" , y = \", cur_y, \" \")\n",
    "print(\"---------------------------------------------------------------------------\")\n",
    "\n",
    "plt.xlabel('x value')\n",
    "plt.ylabel('y value')\n",
    "plt.title('Finding Max')\n",
    "plt.legend()\n",
    "plt.show()"
   ]
  },
  {
   "cell_type": "code",
   "execution_count": null,
   "metadata": {},
   "outputs": [],
   "source": []
  }
 ],
 "metadata": {
  "kernelspec": {
   "display_name": "Python 3",
   "language": "python",
   "name": "python3"
  },
  "language_info": {
   "codemirror_mode": {
    "name": "ipython",
    "version": 3
   },
   "file_extension": ".py",
   "mimetype": "text/x-python",
   "name": "python",
   "nbconvert_exporter": "python",
   "pygments_lexer": "ipython3",
   "version": "3.7.3"
  }
 },
 "nbformat": 4,
 "nbformat_minor": 4
}
