{
 "cells": [
  {
   "cell_type": "markdown",
   "metadata": {},
   "source": [
    "#### Topic: Hw4, Machine-Learning-2019-fall\n",
    "#### Date: 2019-11-1\n",
    "#### Author: 林俊儒(B063040058), 王譽鈞(B065040034)"
   ]
  },
  {
   "cell_type": "markdown",
   "metadata": {},
   "source": [
    "---\n",
    "#### HW PART 1:\n",
    "##### 利用 tensorflow 撰寫一個多層的神經網路去模擬一個函數 $f(x)=x^3+x^2-x-1$\n",
    "##### 比較採用不同層級、不同神經元個數所達到的模擬效果。\n",
    "##### 並請將實際及模擬的結果顯示在圖形上。\n",
    "---"
   ]
  },
  {
   "cell_type": "markdown",
   "metadata": {},
   "source": [
    "##### !!!!!\n",
    "###### 載入 tensotflow 不知道為什麼第一次都會有Warning message，\n",
    "###### 有時這個cell 需要多執行幾次\n",
    "##### !!!!!"
   ]
  },
  {
   "cell_type": "code",
   "execution_count": 14,
   "metadata": {},
   "outputs": [],
   "source": [
    "import tensorflow as tf\n",
    "import numpy as np\n",
    "import matplotlib.pyplot as plt"
   ]
  },
  {
   "cell_type": "markdown",
   "metadata": {},
   "source": [
    "---\n",
    "##### 老師上課時說，希望我們練習用tensor flow寫，先不要直接用keras\n",
    "##### 所以我們使用的 tensor flow add layer 的function 是比較舊的版本\n",
    "##### 執行時會噴很多warning message\n",
    "---"
   ]
  },
  {
   "cell_type": "markdown",
   "metadata": {},
   "source": [
    "##### => 定義要模擬的funcion 與 要用的資料集\n",
    "##### 我們選擇 [-20,20]這個區間\n",
    "##### 切出500個點 用來訓練\n",
    "##### 再製造500個跟訓練點有一些些差距的點來預測"
   ]
  },
  {
   "cell_type": "code",
   "execution_count": 2,
   "metadata": {},
   "outputs": [],
   "source": [
    "def ans_function(data):\n",
    "    return data**3 + data**2 - data - 1\n",
    "\n",
    "#宣告一些紀錄用的變數\n",
    "case1_record = 0; case1_str = \"1-layer-___5-neurons\"\n",
    "case2_record = 0; case2_str = \"1-layer-__20-neurons\"\n",
    "case3_record = 0; case3_str = \"1-layer-_100-neurons\"\n",
    "case4_record = 0; case4_str = \"1-layer-1000-neurons\"\n",
    "case5_record = 0; case5_str = \"2-layer-__20-neurons\"\n",
    "case6_record = 0; case6_str = \"5-layer-__20-neurons\"\n",
    "case7_record = 0; case7_str = \"5-layer-__40-neurons\"\n",
    "\n",
    "#定義測試資料與範圍, 讓x落在 [-20,+20]\n",
    "data_dimen = 1 #資料維度是1, 就是1個 x值\n",
    "data_num = 500 #一次丟500個 x\n",
    "left_edge = -20 #左邊界\n",
    "right_edge = +20 #右邊界\n",
    "x_train = np.linspace( left_edge, right_edge, data_num) \n",
    "x_train = x_train.reshape(1,data_num)\n",
    "y_train = ans_function(x_train)\n",
    "\n",
    "x_test = np.linspace( left_edge, right_edge, data_num) \n",
    "for item in x_test:\n",
    "    item += 0.001\n",
    "x_test = x_test.reshape(1,data_num)\n",
    "y_test = ans_function(x_test)"
   ]
  },
  {
   "cell_type": "markdown",
   "metadata": {},
   "source": [
    "#### 測試 case 1:\n",
    "##### 只用一層、5 顆 neuro\n",
    "###### activation function 使用 relu\n",
    "###### optimizer function 使用 AdamOptimizer\n",
    "###### epochs 設 100 次"
   ]
  },
  {
   "cell_type": "code",
   "execution_count": 3,
   "metadata": {},
   "outputs": [
    {
     "name": "stdout",
     "output_type": "stream",
     "text": [
      "WARNING:tensorflow:From <ipython-input-3-c52dddf329a3>:8: dense (from tensorflow.python.layers.core) is deprecated and will be removed in a future version.\n",
      "Instructions for updating:\n",
      "Use keras.layers.dense instead.\n",
      "WARNING:tensorflow:From /home/chunrulin/anaconda3/lib/python3.7/site-packages/tensorflow/python/ops/init_ops.py:1251: calling VarianceScaling.__init__ (from tensorflow.python.ops.init_ops) with dtype is deprecated and will be removed in a future version.\n",
      "Instructions for updating:\n",
      "Call initializer instance with the dtype argument instead of passing it to the constructor\n",
      "WARNING:tensorflow:Entity <bound method Dense.call of <tensorflow.python.layers.core.Dense object at 0x7f40c8518f10>> could not be transformed and will be executed as-is. Please report this to the AutgoGraph team. When filing the bug, set the verbosity to 10 (on Linux, `export AUTOGRAPH_VERBOSITY=10`) and attach the full output. Cause: converting <bound method Dense.call of <tensorflow.python.layers.core.Dense object at 0x7f40c8518f10>>: AssertionError: Bad argument number for Name: 3, expecting 4\n",
      "WARNING: Entity <bound method Dense.call of <tensorflow.python.layers.core.Dense object at 0x7f40c8518f10>> could not be transformed and will be executed as-is. Please report this to the AutgoGraph team. When filing the bug, set the verbosity to 10 (on Linux, `export AUTOGRAPH_VERBOSITY=10`) and attach the full output. Cause: converting <bound method Dense.call of <tensorflow.python.layers.core.Dense object at 0x7f40c8518f10>>: AssertionError: Bad argument number for Name: 3, expecting 4\n",
      "WARNING:tensorflow:Entity <bound method Dense.call of <tensorflow.python.layers.core.Dense object at 0x7f40cef765d0>> could not be transformed and will be executed as-is. Please report this to the AutgoGraph team. When filing the bug, set the verbosity to 10 (on Linux, `export AUTOGRAPH_VERBOSITY=10`) and attach the full output. Cause: converting <bound method Dense.call of <tensorflow.python.layers.core.Dense object at 0x7f40cef765d0>>: AssertionError: Bad argument number for Name: 3, expecting 4\n",
      "WARNING: Entity <bound method Dense.call of <tensorflow.python.layers.core.Dense object at 0x7f40cef765d0>> could not be transformed and will be executed as-is. Please report this to the AutgoGraph team. When filing the bug, set the verbosity to 10 (on Linux, `export AUTOGRAPH_VERBOSITY=10`) and attach the full output. Cause: converting <bound method Dense.call of <tensorflow.python.layers.core.Dense object at 0x7f40cef765d0>>: AssertionError: Bad argument number for Name: 3, expecting 4\n",
      "WARNING:tensorflow:From /home/chunrulin/anaconda3/lib/python3.7/site-packages/tensorflow/python/ops/losses/losses_impl.py:121: add_dispatch_support.<locals>.wrapper (from tensorflow.python.ops.array_ops) is deprecated and will be removed in a future version.\n",
      "Instructions for updating:\n",
      "Use tf.where in 2.0, which has the same broadcast rule as np.where\n",
      "--------------------------------------------\n",
      "之前的紀錄: \n",
      "(尚無)\n",
      "--------------------------------------------\n",
      "1-layer-___5-neurons : loss_val: 8849060.0\n",
      "--------------------------------------------\n"
     ]
    },
    {
     "data": {
      "image/png": "[encoded data removed]",
      "text/plain": [
       "<Figure size 432x288 with 1 Axes>"
      ]
     },
     "metadata": {
      "needs_background": "light"
     },
     "output_type": "display_data"
    }
   ],
   "source": [
    "first_layer_num = 5 #1層, 5個neuro\n",
    "epochs = 100\n",
    "\n",
    "x_holder = tf.placeholder(tf.float32, shape = (data_dimen,data_num))\n",
    "y_holder = tf.placeholder(tf.float32, shape = (data_dimen,data_num))\n",
    "\n",
    "first_layer = tf.layers.dense(inputs = x_holder, units = first_layer_num, \\\n",
    "                              activation =  tf.nn.relu)\n",
    "y_pred = tf.layers.dense(inputs = first_layer, units = data_num)\n",
    "\n",
    "loss = tf.losses.mean_squared_error(y_pred, y_holder)\n",
    "optimizer = tf.train.AdamOptimizer()\n",
    "updates = optimizer.minimize(loss)\n",
    "\n",
    "with tf.Session() as sess:\n",
    "    sess.run(tf.global_variables_initializer())\n",
    "    value_dict = { x_holder: x_train, y_holder: y_train }\n",
    "    for _ in range(epochs):\n",
    "        ud , loss_val, pred_val = sess.run([updates, loss, y_pred], feed_dict = { x_holder: x_test, y_holder: y_test })\n",
    "    \n",
    "    ud , loss_val, yp = sess.run([updates, loss, y_pred], feed_dict = { x_holder: x_test, y_holder: y_test })\n",
    "    case1_record = loss_val\n",
    "    print(\"--------------------------------------------\")\n",
    "    print(\"之前的紀錄: \")\n",
    "    print(\"(尚無)\")\n",
    "    print(\"--------------------------------------------\")\n",
    "    print(case1_str, \": loss_val:\",case1_record)\n",
    "    print(\"--------------------------------------------\")\n",
    "    \n",
    "    plt.xlabel('x-value')\n",
    "    plt.ylabel('y-value')\n",
    "    plt.title(case1_str)\n",
    "    plt.scatter( list(x for x in x_test), list(y for y in y_test) ,color = 'blue',label='Function')\n",
    "    plt.scatter( list(x for x in x_test), list(x for x in pred_val) ,color = 'red', label='Predict')\n",
    "    plt.legend()\n",
    "    plt.show()"
   ]
  },
  {
   "cell_type": "markdown",
   "metadata": {},
   "source": [
    "#### 從上圖可以看到\n",
    "#### 只用5顆真的不準，我們提升到20顆試試\n",
    "---"
   ]
  },
  {
   "cell_type": "markdown",
   "metadata": {},
   "source": [
    "#### 測試 case 2:\n",
    "##### 只用一層、20 顆 neuro\n",
    "###### activation function 使用 relu\n",
    "###### optimizer function 使用 AdamOptimizer\n",
    "###### epochs 設 100 次"
   ]
  },
  {
   "cell_type": "code",
   "execution_count": 4,
   "metadata": {},
   "outputs": [
    {
     "name": "stdout",
     "output_type": "stream",
     "text": [
      "WARNING:tensorflow:Entity <bound method Dense.call of <tensorflow.python.layers.core.Dense object at 0x7f40c81eb510>> could not be transformed and will be executed as-is. Please report this to the AutgoGraph team. When filing the bug, set the verbosity to 10 (on Linux, `export AUTOGRAPH_VERBOSITY=10`) and attach the full output. Cause: converting <bound method Dense.call of <tensorflow.python.layers.core.Dense object at 0x7f40c81eb510>>: AssertionError: Bad argument number for Name: 3, expecting 4\n",
      "WARNING: Entity <bound method Dense.call of <tensorflow.python.layers.core.Dense object at 0x7f40c81eb510>> could not be transformed and will be executed as-is. Please report this to the AutgoGraph team. When filing the bug, set the verbosity to 10 (on Linux, `export AUTOGRAPH_VERBOSITY=10`) and attach the full output. Cause: converting <bound method Dense.call of <tensorflow.python.layers.core.Dense object at 0x7f40c81eb510>>: AssertionError: Bad argument number for Name: 3, expecting 4\n",
      "WARNING:tensorflow:Entity <bound method Dense.call of <tensorflow.python.layers.core.Dense object at 0x7f40c84362d0>> could not be transformed and will be executed as-is. Please report this to the AutgoGraph team. When filing the bug, set the verbosity to 10 (on Linux, `export AUTOGRAPH_VERBOSITY=10`) and attach the full output. Cause: converting <bound method Dense.call of <tensorflow.python.layers.core.Dense object at 0x7f40c84362d0>>: AssertionError: Bad argument number for Name: 3, expecting 4\n",
      "WARNING: Entity <bound method Dense.call of <tensorflow.python.layers.core.Dense object at 0x7f40c84362d0>> could not be transformed and will be executed as-is. Please report this to the AutgoGraph team. When filing the bug, set the verbosity to 10 (on Linux, `export AUTOGRAPH_VERBOSITY=10`) and attach the full output. Cause: converting <bound method Dense.call of <tensorflow.python.layers.core.Dense object at 0x7f40c84362d0>>: AssertionError: Bad argument number for Name: 3, expecting 4\n",
      "--------------------------------------------\n",
      "之前的紀錄: \n",
      "1-layer-___5-neurons : loss_val: 8849060.0\n",
      "--------------------------------------------\n",
      "1-layer-__20-neurons : loss_val: 6919628.5\n",
      "--------------------------------------------\n"
     ]
    },
    {
     "data": {
      "image/png": "[encoded data removed]",
      "text/plain": [
       "<Figure size 432x288 with 1 Axes>"
      ]
     },
     "metadata": {
      "needs_background": "light"
     },
     "output_type": "display_data"
    }
   ],
   "source": [
    "first_layer_num = 20 #1層, 20個neuro\n",
    "epochs = 100\n",
    "\n",
    "x_holder = tf.placeholder(tf.float32, shape = (data_dimen,data_num))\n",
    "y_holder = tf.placeholder(tf.float32, shape = (data_dimen,data_num))\n",
    "\n",
    "first_layer = tf.layers.dense(inputs = x_holder, units = first_layer_num, activation =  tf.nn.relu)\n",
    "y_pred = tf.layers.dense(inputs = first_layer, units = data_num)\n",
    "\n",
    "loss = tf.losses.mean_squared_error(y_pred, y_holder)\n",
    "optimizer = tf.train.AdamOptimizer()\n",
    "updates = optimizer.minimize(loss)\n",
    "\n",
    "with tf.Session() as sess:\n",
    "    sess.run(tf.global_variables_initializer())\n",
    "    value_dict = { x_holder: x_train, y_holder: y_train }\n",
    "    for _ in range(epochs):\n",
    "        ud , loss_val, pred_val = sess.run([updates, loss, y_pred], feed_dict = { x_holder: x_test, y_holder: y_test })\n",
    "    \n",
    "    ud , loss_val, yp = sess.run([updates, loss, y_pred], feed_dict = { x_holder: x_test, y_holder: y_test })\n",
    "    case2_record = loss_val\n",
    "    print(\"--------------------------------------------\")\n",
    "    print(\"之前的紀錄: \")\n",
    "    print(case1_str, \": loss_val:\",case1_record)\n",
    "    print(\"--------------------------------------------\")\n",
    "    print(case2_str, \": loss_val:\",case2_record)\n",
    "    print(\"--------------------------------------------\")\n",
    "    \n",
    "    plt.xlabel('x-value')\n",
    "    plt.ylabel('y-value')\n",
    "    plt.title(case2_str)\n",
    "    plt.scatter( list(x for x in x_test), list(y for y in y_test) ,color = 'blue',label='Function')\n",
    "    plt.scatter( list(x for x in x_test), list(x for x in pred_val) ,color = 'red', label='Predict')\n",
    "    plt.legend()\n",
    "    plt.show()"
   ]
  },
  {
   "cell_type": "markdown",
   "metadata": {},
   "source": [
    "##### 從上圖可以看到\n",
    "##### 預測值有稍微變準一點，但還是沒有很準\n",
    "---"
   ]
  },
  {
   "cell_type": "markdown",
   "metadata": {},
   "source": [
    "#### 測試 case 3:\n",
    "##### 只用一層、100 顆 neuro\n",
    "###### activation function 使用 relu\n",
    "###### optimizer function 使用 AdamOptimizer\n",
    "###### epochs 設 100 次"
   ]
  },
  {
   "cell_type": "code",
   "execution_count": 5,
   "metadata": {},
   "outputs": [
    {
     "name": "stdout",
     "output_type": "stream",
     "text": [
      "WARNING:tensorflow:Entity <bound method Dense.call of <tensorflow.python.layers.core.Dense object at 0x7f40c7884610>> could not be transformed and will be executed as-is. Please report this to the AutgoGraph team. When filing the bug, set the verbosity to 10 (on Linux, `export AUTOGRAPH_VERBOSITY=10`) and attach the full output. Cause: converting <bound method Dense.call of <tensorflow.python.layers.core.Dense object at 0x7f40c7884610>>: AssertionError: Bad argument number for Name: 3, expecting 4\n",
      "WARNING: Entity <bound method Dense.call of <tensorflow.python.layers.core.Dense object at 0x7f40c7884610>> could not be transformed and will be executed as-is. Please report this to the AutgoGraph team. When filing the bug, set the verbosity to 10 (on Linux, `export AUTOGRAPH_VERBOSITY=10`) and attach the full output. Cause: converting <bound method Dense.call of <tensorflow.python.layers.core.Dense object at 0x7f40c7884610>>: AssertionError: Bad argument number for Name: 3, expecting 4\n",
      "WARNING:tensorflow:Entity <bound method Dense.call of <tensorflow.python.layers.core.Dense object at 0x7f40c45aca50>> could not be transformed and will be executed as-is. Please report this to the AutgoGraph team. When filing the bug, set the verbosity to 10 (on Linux, `export AUTOGRAPH_VERBOSITY=10`) and attach the full output. Cause: converting <bound method Dense.call of <tensorflow.python.layers.core.Dense object at 0x7f40c45aca50>>: AssertionError: Bad argument number for Name: 3, expecting 4\n",
      "WARNING: Entity <bound method Dense.call of <tensorflow.python.layers.core.Dense object at 0x7f40c45aca50>> could not be transformed and will be executed as-is. Please report this to the AutgoGraph team. When filing the bug, set the verbosity to 10 (on Linux, `export AUTOGRAPH_VERBOSITY=10`) and attach the full output. Cause: converting <bound method Dense.call of <tensorflow.python.layers.core.Dense object at 0x7f40c45aca50>>: AssertionError: Bad argument number for Name: 3, expecting 4\n",
      "--------------------------------------------\n",
      "之前的紀錄: \n",
      "1-layer-___5-neurons : loss_val: 8849060.0\n",
      "1-layer-__20-neurons : loss_val: 6919628.5\n",
      "--------------------------------------------\n",
      "1-layer-_100-neurons : loss_val: 2146835.5\n",
      "--------------------------------------------\n"
     ]
    },
    {
     "data": {
      "image/png": "[encoded data removed]",
      "text/plain": [
       "<Figure size 432x288 with 1 Axes>"
      ]
     },
     "metadata": {
      "needs_background": "light"
     },
     "output_type": "display_data"
    }
   ],
   "source": [
    "first_layer_num = 100 #1層, 100個neuro\n",
    "epochs = 100\n",
    "\n",
    "x_holder = tf.placeholder(tf.float32, shape = (data_dimen,data_num))\n",
    "y_holder = tf.placeholder(tf.float32, shape = (data_dimen,data_num))\n",
    "\n",
    "first_layer = tf.layers.dense(inputs = x_holder, units = first_layer_num, activation =  tf.nn.relu)\n",
    "y_pred = tf.layers.dense(inputs = first_layer, units = data_num)\n",
    "\n",
    "loss = tf.losses.mean_squared_error(y_pred, y_holder)\n",
    "optimizer = tf.train.AdamOptimizer()\n",
    "updates = optimizer.minimize(loss)\n",
    "\n",
    "with tf.Session() as sess:\n",
    "    sess.run(tf.global_variables_initializer())\n",
    "    value_dict = { x_holder: x_train, y_holder: y_train }\n",
    "    for epochs in range(epochs):\n",
    "        ud , loss_val, pred_val = sess.run([updates, loss, y_pred], feed_dict = { x_holder: x_test, y_holder: y_test })\n",
    "    \n",
    "    ud , loss_val, yp = sess.run([updates, loss, y_pred], feed_dict = { x_holder: x_test, y_holder: y_test })\n",
    "    case3_record = loss_val\n",
    "    print(\"--------------------------------------------\")\n",
    "    print(\"之前的紀錄: \")\n",
    "    print(case1_str, \": loss_val:\",case1_record)\n",
    "    print(case2_str, \": loss_val:\",case2_record)\n",
    "    print(\"--------------------------------------------\")\n",
    "    print(case3_str, \": loss_val:\",case3_record)\n",
    "    print(\"--------------------------------------------\")\n",
    "    \n",
    "    plt.xlabel('x-value')\n",
    "    plt.ylabel('y-value')\n",
    "    plt.title(case3_str)\n",
    "    plt.scatter( list(x for x in x_test), list(y for y in y_test) ,color = 'blue',label='Function')\n",
    "    plt.scatter( list(x for x in x_test), list(x for x in pred_val) ,color = 'red', label='Predict')\n",
    "    plt.legend()\n",
    "    plt.show()"
   ]
  },
  {
   "cell_type": "markdown",
   "metadata": {},
   "source": [
    "##### 從上圖可以看到\n",
    "##### 改成100顆 即使只有一層 有準很多\n",
    "##### 不過靠近邊緣的值 預測就比較不準\n",
    "---"
   ]
  },
  {
   "cell_type": "markdown",
   "metadata": {},
   "source": [
    "#### 測試 case 4:\n",
    "##### 只用一層、1000 顆 neuro\n",
    "###### activation function 使用 relu\n",
    "###### optimizer function 使用 AdamOptimizer\n",
    "###### epochs 設 100 次"
   ]
  },
  {
   "cell_type": "code",
   "execution_count": 6,
   "metadata": {},
   "outputs": [
    {
     "name": "stdout",
     "output_type": "stream",
     "text": [
      "WARNING:tensorflow:Entity <bound method Dense.call of <tensorflow.python.layers.core.Dense object at 0x7f40c41fcf50>> could not be transformed and will be executed as-is. Please report this to the AutgoGraph team. When filing the bug, set the verbosity to 10 (on Linux, `export AUTOGRAPH_VERBOSITY=10`) and attach the full output. Cause: converting <bound method Dense.call of <tensorflow.python.layers.core.Dense object at 0x7f40c41fcf50>>: AssertionError: Bad argument number for Name: 3, expecting 4\n",
      "WARNING: Entity <bound method Dense.call of <tensorflow.python.layers.core.Dense object at 0x7f40c41fcf50>> could not be transformed and will be executed as-is. Please report this to the AutgoGraph team. When filing the bug, set the verbosity to 10 (on Linux, `export AUTOGRAPH_VERBOSITY=10`) and attach the full output. Cause: converting <bound method Dense.call of <tensorflow.python.layers.core.Dense object at 0x7f40c41fcf50>>: AssertionError: Bad argument number for Name: 3, expecting 4\n",
      "WARNING:tensorflow:Entity <bound method Dense.call of <tensorflow.python.layers.core.Dense object at 0x7f40c41e4110>> could not be transformed and will be executed as-is. Please report this to the AutgoGraph team. When filing the bug, set the verbosity to 10 (on Linux, `export AUTOGRAPH_VERBOSITY=10`) and attach the full output. Cause: converting <bound method Dense.call of <tensorflow.python.layers.core.Dense object at 0x7f40c41e4110>>: AssertionError: Bad argument number for Name: 3, expecting 4\n",
      "WARNING: Entity <bound method Dense.call of <tensorflow.python.layers.core.Dense object at 0x7f40c41e4110>> could not be transformed and will be executed as-is. Please report this to the AutgoGraph team. When filing the bug, set the verbosity to 10 (on Linux, `export AUTOGRAPH_VERBOSITY=10`) and attach the full output. Cause: converting <bound method Dense.call of <tensorflow.python.layers.core.Dense object at 0x7f40c41e4110>>: AssertionError: Bad argument number for Name: 3, expecting 4\n",
      "--------------------------------------------\n",
      "之前的紀錄: \n",
      "1-layer-___5-neurons : loss_val: 8849060.0\n",
      "1-layer-__20-neurons : loss_val: 6919628.5\n",
      "1-layer-_100-neurons : loss_val: 2146835.5\n",
      "--------------------------------------------\n",
      "1-layer-1000-neurons : loss_val: 2641.937\n",
      "--------------------------------------------\n"
     ]
    },
    {
     "data": {
      "image/png": "[encoded data removed]",
      "text/plain": [
       "<Figure size 432x288 with 1 Axes>"
      ]
     },
     "metadata": {
      "needs_background": "light"
     },
     "output_type": "display_data"
    }
   ],
   "source": [
    "first_layer_num = 1000 #1層, 1000個neuro\n",
    "epochs = 100\n",
    "\n",
    "x_holder = tf.placeholder(tf.float32, shape = (data_dimen,data_num))\n",
    "y_holder = tf.placeholder(tf.float32, shape = (data_dimen,data_num))\n",
    "\n",
    "first_layer = tf.layers.dense(inputs = x_holder, units = first_layer_num, activation =  tf.nn.relu)\n",
    "y_pred = tf.layers.dense(inputs = first_layer, units = data_num)\n",
    "\n",
    "loss = tf.losses.mean_squared_error(y_pred, y_holder)\n",
    "optimizer = tf.train.AdamOptimizer()\n",
    "updates = optimizer.minimize(loss)\n",
    "\n",
    "with tf.Session() as sess:\n",
    "    sess.run(tf.global_variables_initializer())\n",
    "    value_dict = { x_holder: x_train, y_holder: y_train }\n",
    "    for epochs in range(epochs):\n",
    "        ud , loss_val, pred_val = sess.run([updates, loss, y_pred], feed_dict = { x_holder: x_test, y_holder: y_test })\n",
    "    \n",
    "    ud , loss_val, yp = sess.run([updates, loss, y_pred], feed_dict = { x_holder: x_test, y_holder: y_test })\n",
    "    case4_record = loss_val\n",
    "    print(\"--------------------------------------------\")\n",
    "    print(\"之前的紀錄: \")\n",
    "    print(case1_str, \": loss_val:\",case1_record)\n",
    "    print(case2_str, \": loss_val:\",case2_record)\n",
    "    print(case3_str, \": loss_val:\",case3_record)\n",
    "    print(\"--------------------------------------------\")\n",
    "    print(case4_str, \": loss_val:\",case4_record)\n",
    "    print(\"--------------------------------------------\")\n",
    "    \n",
    "    plt.xlabel('x-value')\n",
    "    plt.ylabel('y-value')\n",
    "    plt.title(case4_str)\n",
    "    plt.scatter( list(x for x in x_test), list(y for y in y_test) ,color = 'blue',label='Function')\n",
    "    plt.scatter( list(x for x in x_test), list(x for x in pred_val) ,color = 'red', label='Predict')\n",
    "    plt.legend()\n",
    "    plt.show()"
   ]
  },
  {
   "cell_type": "markdown",
   "metadata": {},
   "source": [
    "##### 從上圖可以看到\n",
    "##### 改成1000顆 即使只有一層 有準非常多\n",
    "##### 接下來我們測試不同層數的影響\n",
    "---"
   ]
  },
  {
   "cell_type": "markdown",
   "metadata": {},
   "source": [
    "#### 測試 case 5:\n",
    "##### 改回 20 顆 neuro\n",
    "##### 這次用2層 (2層都20顆)\n",
    "###### activation function 使用 relu\n",
    "###### optimizer function 使用 AdamOptimizer\n",
    "###### epochs 設 100 次"
   ]
  },
  {
   "cell_type": "code",
   "execution_count": 7,
   "metadata": {},
   "outputs": [
    {
     "name": "stdout",
     "output_type": "stream",
     "text": [
      "WARNING:tensorflow:Entity <bound method Dense.call of <tensorflow.python.layers.core.Dense object at 0x7f40c78d77d0>> could not be transformed and will be executed as-is. Please report this to the AutgoGraph team. When filing the bug, set the verbosity to 10 (on Linux, `export AUTOGRAPH_VERBOSITY=10`) and attach the full output. Cause: converting <bound method Dense.call of <tensorflow.python.layers.core.Dense object at 0x7f40c78d77d0>>: AssertionError: Bad argument number for Name: 3, expecting 4\n",
      "WARNING: Entity <bound method Dense.call of <tensorflow.python.layers.core.Dense object at 0x7f40c78d77d0>> could not be transformed and will be executed as-is. Please report this to the AutgoGraph team. When filing the bug, set the verbosity to 10 (on Linux, `export AUTOGRAPH_VERBOSITY=10`) and attach the full output. Cause: converting <bound method Dense.call of <tensorflow.python.layers.core.Dense object at 0x7f40c78d77d0>>: AssertionError: Bad argument number for Name: 3, expecting 4\n",
      "WARNING:tensorflow:Entity <bound method Dense.call of <tensorflow.python.layers.core.Dense object at 0x7f40c78d78d0>> could not be transformed and will be executed as-is. Please report this to the AutgoGraph team. When filing the bug, set the verbosity to 10 (on Linux, `export AUTOGRAPH_VERBOSITY=10`) and attach the full output. Cause: converting <bound method Dense.call of <tensorflow.python.layers.core.Dense object at 0x7f40c78d78d0>>: AssertionError: Bad argument number for Name: 3, expecting 4\n",
      "WARNING: Entity <bound method Dense.call of <tensorflow.python.layers.core.Dense object at 0x7f40c78d78d0>> could not be transformed and will be executed as-is. Please report this to the AutgoGraph team. When filing the bug, set the verbosity to 10 (on Linux, `export AUTOGRAPH_VERBOSITY=10`) and attach the full output. Cause: converting <bound method Dense.call of <tensorflow.python.layers.core.Dense object at 0x7f40c78d78d0>>: AssertionError: Bad argument number for Name: 3, expecting 4\n",
      "WARNING:tensorflow:Entity <bound method Dense.call of <tensorflow.python.layers.core.Dense object at 0x7f40a8665f50>> could not be transformed and will be executed as-is. Please report this to the AutgoGraph team. When filing the bug, set the verbosity to 10 (on Linux, `export AUTOGRAPH_VERBOSITY=10`) and attach the full output. Cause: converting <bound method Dense.call of <tensorflow.python.layers.core.Dense object at 0x7f40a8665f50>>: AssertionError: Bad argument number for Name: 3, expecting 4\n",
      "WARNING: Entity <bound method Dense.call of <tensorflow.python.layers.core.Dense object at 0x7f40a8665f50>> could not be transformed and will be executed as-is. Please report this to the AutgoGraph team. When filing the bug, set the verbosity to 10 (on Linux, `export AUTOGRAPH_VERBOSITY=10`) and attach the full output. Cause: converting <bound method Dense.call of <tensorflow.python.layers.core.Dense object at 0x7f40a8665f50>>: AssertionError: Bad argument number for Name: 3, expecting 4\n",
      "--------------------------------------------\n",
      "之前的紀錄: \n",
      "1-layer-___5-neurons : loss_val: 8849060.0\n",
      "1-layer-__20-neurons : loss_val: 6919628.5\n",
      "1-layer-_100-neurons : loss_val: 2146835.5\n",
      "1-layer-1000-neurons : loss_val: 2641.937\n",
      "--------------------------------------------\n",
      "2-layer-__20-neurons : loss_val: 3263957.5\n",
      "--------------------------------------------\n"
     ]
    },
    {
     "data": {
      "image/png": "[encoded data removed]",
      "text/plain": [
       "<Figure size 432x288 with 1 Axes>"
      ]
     },
     "metadata": {
      "needs_background": "light"
     },
     "output_type": "display_data"
    }
   ],
   "source": [
    "first_layer_num  = 20 #第1層, 20個neuro\n",
    "second_layer_num = 20 #第2層, 20個neuro\n",
    "epochs = 100\n",
    "\n",
    "x_holder = tf.placeholder(tf.float32, shape = (data_dimen,data_num))\n",
    "y_holder = tf.placeholder(tf.float32, shape = (data_dimen,data_num))\n",
    "\n",
    "first_layer =  tf.layers.dense(inputs = x_holder, units = first_layer_num, activation =  tf.nn.relu)\n",
    "second_layer = tf.layers.dense(inputs = first_layer, units = second_layer_num, activation =  tf.nn.relu)\n",
    "y_pred = tf.layers.dense(inputs = second_layer, units = data_num)\n",
    "\n",
    "loss = tf.losses.mean_squared_error(y_pred, y_holder)\n",
    "optimizer = tf.train.AdamOptimizer()\n",
    "updates = optimizer.minimize(loss)\n",
    "\n",
    "with tf.Session() as sess:\n",
    "    sess.run(tf.global_variables_initializer())\n",
    "    value_dict = { x_holder: x_train, y_holder: y_train }\n",
    "    for _ in range(epochs):\n",
    "        ud , loss_val, pred_val = sess.run([updates, loss, y_pred], feed_dict = { x_holder: x_test, y_holder: y_test })\n",
    "    \n",
    "    ud , loss_val, yp = sess.run([updates, loss, y_pred], feed_dict = { x_holder: x_test, y_holder: y_test })\n",
    "    case5_record = loss_val\n",
    "    print(\"--------------------------------------------\")\n",
    "    print(\"之前的紀錄: \")\n",
    "    print(case1_str, \": loss_val:\",case1_record)\n",
    "    print(case2_str, \": loss_val:\",case2_record)\n",
    "    print(case3_str, \": loss_val:\",case3_record)\n",
    "    print(case4_str, \": loss_val:\",case4_record)\n",
    "    print(\"--------------------------------------------\")\n",
    "    print(case5_str, \": loss_val:\",case5_record)\n",
    "    print(\"--------------------------------------------\")\n",
    "    \n",
    "    plt.xlabel('x-value')\n",
    "    plt.ylabel('y-value')\n",
    "    plt.title(case5_str)\n",
    "    plt.scatter( list(x for x in x_test), list(y for y in y_test) ,color = 'blue',label='Function')\n",
    "    plt.scatter( list(x for x in x_test), list(x for x in pred_val) ,color = 'red', label='Predict')\n",
    "    plt.legend()\n",
    "    plt.show()"
   ]
  },
  {
   "cell_type": "markdown",
   "metadata": {},
   "source": [
    "##### 從上圖可以看到\n",
    "##### 僅有20顆 改成二層 \n",
    "##### 在邊緣的部份，有比單層20顆好一點，但沒有單層100顆那麼強\n",
    "##### 我們再試試多幾層 \n",
    "---"
   ]
  },
  {
   "cell_type": "markdown",
   "metadata": {},
   "source": [
    "#### 測試 case 6:\n",
    "##### 一樣 20 顆 neuro\n",
    "##### 這次用5層 (5層都20顆)\n",
    "###### activation function 使用 relu\n",
    "###### optimizer function 使用 AdamOptimizer\n",
    "###### epochs 設 100 次"
   ]
  },
  {
   "cell_type": "code",
   "execution_count": 8,
   "metadata": {},
   "outputs": [
    {
     "name": "stdout",
     "output_type": "stream",
     "text": [
      "WARNING:tensorflow:Entity <bound method Dense.call of <tensorflow.python.layers.core.Dense object at 0x7f40c46406d0>> could not be transformed and will be executed as-is. Please report this to the AutgoGraph team. When filing the bug, set the verbosity to 10 (on Linux, `export AUTOGRAPH_VERBOSITY=10`) and attach the full output. Cause: converting <bound method Dense.call of <tensorflow.python.layers.core.Dense object at 0x7f40c46406d0>>: AssertionError: Bad argument number for Name: 3, expecting 4\n",
      "WARNING: Entity <bound method Dense.call of <tensorflow.python.layers.core.Dense object at 0x7f40c46406d0>> could not be transformed and will be executed as-is. Please report this to the AutgoGraph team. When filing the bug, set the verbosity to 10 (on Linux, `export AUTOGRAPH_VERBOSITY=10`) and attach the full output. Cause: converting <bound method Dense.call of <tensorflow.python.layers.core.Dense object at 0x7f40c46406d0>>: AssertionError: Bad argument number for Name: 3, expecting 4\n",
      "WARNING:tensorflow:Entity <bound method Dense.call of <tensorflow.python.layers.core.Dense object at 0x7f40c416b350>> could not be transformed and will be executed as-is. Please report this to the AutgoGraph team. When filing the bug, set the verbosity to 10 (on Linux, `export AUTOGRAPH_VERBOSITY=10`) and attach the full output. Cause: converting <bound method Dense.call of <tensorflow.python.layers.core.Dense object at 0x7f40c416b350>>: AssertionError: Bad argument number for Name: 3, expecting 4\n",
      "WARNING: Entity <bound method Dense.call of <tensorflow.python.layers.core.Dense object at 0x7f40c416b350>> could not be transformed and will be executed as-is. Please report this to the AutgoGraph team. When filing the bug, set the verbosity to 10 (on Linux, `export AUTOGRAPH_VERBOSITY=10`) and attach the full output. Cause: converting <bound method Dense.call of <tensorflow.python.layers.core.Dense object at 0x7f40c416b350>>: AssertionError: Bad argument number for Name: 3, expecting 4\n",
      "WARNING:tensorflow:Entity <bound method Dense.call of <tensorflow.python.layers.core.Dense object at 0x7f40c46406d0>> could not be transformed and will be executed as-is. Please report this to the AutgoGraph team. When filing the bug, set the verbosity to 10 (on Linux, `export AUTOGRAPH_VERBOSITY=10`) and attach the full output. Cause: converting <bound method Dense.call of <tensorflow.python.layers.core.Dense object at 0x7f40c46406d0>>: AssertionError: Bad argument number for Name: 3, expecting 4\n",
      "WARNING: Entity <bound method Dense.call of <tensorflow.python.layers.core.Dense object at 0x7f40c46406d0>> could not be transformed and will be executed as-is. Please report this to the AutgoGraph team. When filing the bug, set the verbosity to 10 (on Linux, `export AUTOGRAPH_VERBOSITY=10`) and attach the full output. Cause: converting <bound method Dense.call of <tensorflow.python.layers.core.Dense object at 0x7f40c46406d0>>: AssertionError: Bad argument number for Name: 3, expecting 4\n",
      "WARNING:tensorflow:Entity <bound method Dense.call of <tensorflow.python.layers.core.Dense object at 0x7f40c416b350>> could not be transformed and will be executed as-is. Please report this to the AutgoGraph team. When filing the bug, set the verbosity to 10 (on Linux, `export AUTOGRAPH_VERBOSITY=10`) and attach the full output. Cause: converting <bound method Dense.call of <tensorflow.python.layers.core.Dense object at 0x7f40c416b350>>: AssertionError: Bad argument number for Name: 3, expecting 4\n",
      "WARNING: Entity <bound method Dense.call of <tensorflow.python.layers.core.Dense object at 0x7f40c416b350>> could not be transformed and will be executed as-is. Please report this to the AutgoGraph team. When filing the bug, set the verbosity to 10 (on Linux, `export AUTOGRAPH_VERBOSITY=10`) and attach the full output. Cause: converting <bound method Dense.call of <tensorflow.python.layers.core.Dense object at 0x7f40c416b350>>: AssertionError: Bad argument number for Name: 3, expecting 4\n",
      "WARNING:tensorflow:Entity <bound method Dense.call of <tensorflow.python.layers.core.Dense object at 0x7f40c46406d0>> could not be transformed and will be executed as-is. Please report this to the AutgoGraph team. When filing the bug, set the verbosity to 10 (on Linux, `export AUTOGRAPH_VERBOSITY=10`) and attach the full output. Cause: converting <bound method Dense.call of <tensorflow.python.layers.core.Dense object at 0x7f40c46406d0>>: AssertionError: Bad argument number for Name: 3, expecting 4\n",
      "WARNING: Entity <bound method Dense.call of <tensorflow.python.layers.core.Dense object at 0x7f40c46406d0>> could not be transformed and will be executed as-is. Please report this to the AutgoGraph team. When filing the bug, set the verbosity to 10 (on Linux, `export AUTOGRAPH_VERBOSITY=10`) and attach the full output. Cause: converting <bound method Dense.call of <tensorflow.python.layers.core.Dense object at 0x7f40c46406d0>>: AssertionError: Bad argument number for Name: 3, expecting 4\n",
      "WARNING:tensorflow:Entity <bound method Dense.call of <tensorflow.python.layers.core.Dense object at 0x7f40c416b350>> could not be transformed and will be executed as-is. Please report this to the AutgoGraph team. When filing the bug, set the verbosity to 10 (on Linux, `export AUTOGRAPH_VERBOSITY=10`) and attach the full output. Cause: converting <bound method Dense.call of <tensorflow.python.layers.core.Dense object at 0x7f40c416b350>>: AssertionError: Bad argument number for Name: 3, expecting 4\n",
      "WARNING: Entity <bound method Dense.call of <tensorflow.python.layers.core.Dense object at 0x7f40c416b350>> could not be transformed and will be executed as-is. Please report this to the AutgoGraph team. When filing the bug, set the verbosity to 10 (on Linux, `export AUTOGRAPH_VERBOSITY=10`) and attach the full output. Cause: converting <bound method Dense.call of <tensorflow.python.layers.core.Dense object at 0x7f40c416b350>>: AssertionError: Bad argument number for Name: 3, expecting 4\n",
      "--------------------------------------------\n",
      "之前的紀錄: \n",
      "1-layer-___5-neurons : loss_val: 8849060.0\n",
      "1-layer-__20-neurons : loss_val: 6919628.5\n",
      "1-layer-_100-neurons : loss_val: 2146835.5\n",
      "1-layer-1000-neurons : loss_val: 2641.937\n",
      "2-layer-__20-neurons : loss_val: 3263957.5\n",
      "--------------------------------------------\n",
      "5-layer-__20-neurons : loss_val: 948247.4\n",
      "--------------------------------------------\n"
     ]
    },
    {
     "data": {
      "image/png": "[encoded data removed]",
      "text/plain": [
       "<Figure size 432x288 with 1 Axes>"
      ]
     },
     "metadata": {
      "needs_background": "light"
     },
     "output_type": "display_data"
    }
   ],
   "source": [
    "first_layer_num  = 20 #第1層, 20個neuro\n",
    "second_layer_num = 20 #第2層, 20個neuro\n",
    "third_layer_num = 20 #第3層, 20個neuro\n",
    "fourth_layer_num = 20 #第4層, 20個neuro\n",
    "fifth_layer_num = 20 #第5層, 20個neuro\n",
    "epochs = 100\n",
    "\n",
    "x_holder = tf.placeholder(tf.float32, shape = (data_dimen,data_num))\n",
    "y_holder = tf.placeholder(tf.float32, shape = (data_dimen,data_num))\n",
    "\n",
    "first_layer =  tf.layers.dense(inputs = x_holder, units = first_layer_num, activation =  tf.nn.relu)\n",
    "second_layer = tf.layers.dense(inputs = first_layer, units = second_layer_num, activation =  tf.nn.relu)\n",
    "third_layer =  tf.layers.dense(inputs = second_layer, units = third_layer_num, activation =  tf.nn.relu)\n",
    "fourth_layer = tf.layers.dense(inputs = third_layer, units = fourth_layer_num, activation =  tf.nn.relu)\n",
    "fifth_layer =  tf.layers.dense(inputs = fourth_layer, units = fifth_layer_num, activation =  tf.nn.relu) \n",
    "y_pred = tf.layers.dense(inputs = fifth_layer, units = data_num)\n",
    "\n",
    "loss = tf.losses.mean_squared_error(y_pred, y_holder)\n",
    "optimizer = tf.train.AdamOptimizer()\n",
    "updates = optimizer.minimize(loss)\n",
    "\n",
    "with tf.Session() as sess:\n",
    "    sess.run(tf.global_variables_initializer())\n",
    "    value_dict = { x_holder: x_train, y_holder: y_train }\n",
    "    for _ in range(epochs):\n",
    "        ud , loss_val, pred_val = sess.run([updates, loss, y_pred], feed_dict = { x_holder: x_test, y_holder: y_test })\n",
    "    \n",
    "    ud , loss_val, yp = sess.run([updates, loss, y_pred], feed_dict = { x_holder: x_test, y_holder: y_test })\n",
    "    case6_record = loss_val\n",
    "    print(\"--------------------------------------------\")\n",
    "    print(\"之前的紀錄: \")\n",
    "    print(case1_str, \": loss_val:\",case1_record)\n",
    "    print(case2_str, \": loss_val:\",case2_record)\n",
    "    print(case3_str, \": loss_val:\",case3_record)\n",
    "    print(case4_str, \": loss_val:\",case4_record)\n",
    "    print(case5_str, \": loss_val:\",case5_record)\n",
    "    print(\"--------------------------------------------\")\n",
    "    print(case6_str, \": loss_val:\",case6_record)\n",
    "    print(\"--------------------------------------------\")\n",
    "    \n",
    "    plt.xlabel('x-value')\n",
    "    plt.ylabel('y-value')\n",
    "    plt.title(case6_str)\n",
    "    plt.scatter( list(x for x in x_test), list(y for y in y_test) ,color = 'blue',label='Function')\n",
    "    plt.scatter( list(x for x in x_test), list(x for x in pred_val) ,color = 'red', label='Predict')\n",
    "    plt.legend()\n",
    "    plt.show()"
   ]
  },
  {
   "cell_type": "markdown",
   "metadata": {},
   "source": [
    "##### 從上圖可以看到 每層20顆\n",
    "##### 二層改成五層 在邊緣提昇準度蠻多的，\n",
    "##### 整體而言 5層20顆 比1層100顆好\n",
    "##### 我們接著把每一層 都提升到 40顆 (5層 各40顆)\n",
    "---"
   ]
  },
  {
   "cell_type": "markdown",
   "metadata": {},
   "source": [
    "#### 測試 case 7:\n",
    "##### 改成 40 顆 neuro\n",
    "##### 一樣用5層 (5層都40顆)\n",
    "###### activation function 使用 relu\n",
    "###### optimizer function 使用 AdamOptimizer\n",
    "###### epochs 設 100 次"
   ]
  },
  {
   "cell_type": "code",
   "execution_count": 9,
   "metadata": {},
   "outputs": [
    {
     "name": "stdout",
     "output_type": "stream",
     "text": [
      "WARNING:tensorflow:Entity <bound method Dense.call of <tensorflow.python.layers.core.Dense object at 0x7f40c41c0f10>> could not be transformed and will be executed as-is. Please report this to the AutgoGraph team. When filing the bug, set the verbosity to 10 (on Linux, `export AUTOGRAPH_VERBOSITY=10`) and attach the full output. Cause: converting <bound method Dense.call of <tensorflow.python.layers.core.Dense object at 0x7f40c41c0f10>>: AssertionError: Bad argument number for Name: 3, expecting 4\n",
      "WARNING: Entity <bound method Dense.call of <tensorflow.python.layers.core.Dense object at 0x7f40c41c0f10>> could not be transformed and will be executed as-is. Please report this to the AutgoGraph team. When filing the bug, set the verbosity to 10 (on Linux, `export AUTOGRAPH_VERBOSITY=10`) and attach the full output. Cause: converting <bound method Dense.call of <tensorflow.python.layers.core.Dense object at 0x7f40c41c0f10>>: AssertionError: Bad argument number for Name: 3, expecting 4\n",
      "WARNING:tensorflow:Entity <bound method Dense.call of <tensorflow.python.layers.core.Dense object at 0x7f40983b3190>> could not be transformed and will be executed as-is. Please report this to the AutgoGraph team. When filing the bug, set the verbosity to 10 (on Linux, `export AUTOGRAPH_VERBOSITY=10`) and attach the full output. Cause: converting <bound method Dense.call of <tensorflow.python.layers.core.Dense object at 0x7f40983b3190>>: AssertionError: Bad argument number for Name: 3, expecting 4\n",
      "WARNING: Entity <bound method Dense.call of <tensorflow.python.layers.core.Dense object at 0x7f40983b3190>> could not be transformed and will be executed as-is. Please report this to the AutgoGraph team. When filing the bug, set the verbosity to 10 (on Linux, `export AUTOGRAPH_VERBOSITY=10`) and attach the full output. Cause: converting <bound method Dense.call of <tensorflow.python.layers.core.Dense object at 0x7f40983b3190>>: AssertionError: Bad argument number for Name: 3, expecting 4\n",
      "WARNING:tensorflow:Entity <bound method Dense.call of <tensorflow.python.layers.core.Dense object at 0x7f40c41c0f10>> could not be transformed and will be executed as-is. Please report this to the AutgoGraph team. When filing the bug, set the verbosity to 10 (on Linux, `export AUTOGRAPH_VERBOSITY=10`) and attach the full output. Cause: converting <bound method Dense.call of <tensorflow.python.layers.core.Dense object at 0x7f40c41c0f10>>: AssertionError: Bad argument number for Name: 3, expecting 4\n",
      "WARNING: Entity <bound method Dense.call of <tensorflow.python.layers.core.Dense object at 0x7f40c41c0f10>> could not be transformed and will be executed as-is. Please report this to the AutgoGraph team. When filing the bug, set the verbosity to 10 (on Linux, `export AUTOGRAPH_VERBOSITY=10`) and attach the full output. Cause: converting <bound method Dense.call of <tensorflow.python.layers.core.Dense object at 0x7f40c41c0f10>>: AssertionError: Bad argument number for Name: 3, expecting 4\n",
      "WARNING:tensorflow:Entity <bound method Dense.call of <tensorflow.python.layers.core.Dense object at 0x7f40983b3190>> could not be transformed and will be executed as-is. Please report this to the AutgoGraph team. When filing the bug, set the verbosity to 10 (on Linux, `export AUTOGRAPH_VERBOSITY=10`) and attach the full output. Cause: converting <bound method Dense.call of <tensorflow.python.layers.core.Dense object at 0x7f40983b3190>>: AssertionError: Bad argument number for Name: 3, expecting 4\n",
      "WARNING: Entity <bound method Dense.call of <tensorflow.python.layers.core.Dense object at 0x7f40983b3190>> could not be transformed and will be executed as-is. Please report this to the AutgoGraph team. When filing the bug, set the verbosity to 10 (on Linux, `export AUTOGRAPH_VERBOSITY=10`) and attach the full output. Cause: converting <bound method Dense.call of <tensorflow.python.layers.core.Dense object at 0x7f40983b3190>>: AssertionError: Bad argument number for Name: 3, expecting 4\n",
      "WARNING:tensorflow:Entity <bound method Dense.call of <tensorflow.python.layers.core.Dense object at 0x7f40c41c0f10>> could not be transformed and will be executed as-is. Please report this to the AutgoGraph team. When filing the bug, set the verbosity to 10 (on Linux, `export AUTOGRAPH_VERBOSITY=10`) and attach the full output. Cause: converting <bound method Dense.call of <tensorflow.python.layers.core.Dense object at 0x7f40c41c0f10>>: AssertionError: Bad argument number for Name: 3, expecting 4\n",
      "WARNING: Entity <bound method Dense.call of <tensorflow.python.layers.core.Dense object at 0x7f40c41c0f10>> could not be transformed and will be executed as-is. Please report this to the AutgoGraph team. When filing the bug, set the verbosity to 10 (on Linux, `export AUTOGRAPH_VERBOSITY=10`) and attach the full output. Cause: converting <bound method Dense.call of <tensorflow.python.layers.core.Dense object at 0x7f40c41c0f10>>: AssertionError: Bad argument number for Name: 3, expecting 4\n",
      "WARNING:tensorflow:Entity <bound method Dense.call of <tensorflow.python.layers.core.Dense object at 0x7f40c7863f10>> could not be transformed and will be executed as-is. Please report this to the AutgoGraph team. When filing the bug, set the verbosity to 10 (on Linux, `export AUTOGRAPH_VERBOSITY=10`) and attach the full output. Cause: converting <bound method Dense.call of <tensorflow.python.layers.core.Dense object at 0x7f40c7863f10>>: AssertionError: Bad argument number for Name: 3, expecting 4\n",
      "WARNING: Entity <bound method Dense.call of <tensorflow.python.layers.core.Dense object at 0x7f40c7863f10>> could not be transformed and will be executed as-is. Please report this to the AutgoGraph team. When filing the bug, set the verbosity to 10 (on Linux, `export AUTOGRAPH_VERBOSITY=10`) and attach the full output. Cause: converting <bound method Dense.call of <tensorflow.python.layers.core.Dense object at 0x7f40c7863f10>>: AssertionError: Bad argument number for Name: 3, expecting 4\n",
      "--------------------------------------------\n",
      "含這次的總紀錄: \n",
      "1-layer-___5-neurons : loss_val: 8849060.0\n",
      "1-layer-__20-neurons : loss_val: 6919628.5\n",
      "1-layer-_100-neurons : loss_val: 2146835.5\n",
      "1-layer-1000-neurons : loss_val: 2641.937\n",
      "2-layer-__20-neurons : loss_val: 3263957.5\n",
      "5-layer-__20-neurons : loss_val: 948247.4\n",
      "5-layer-__40-neurons : loss_val: 26970.973\n",
      "--------------------------------------------\n"
     ]
    },
    {
     "data": {
      "image/png": "[encoded data removed]",
      "text/plain": [
       "<Figure size 432x288 with 1 Axes>"
      ]
     },
     "metadata": {
      "needs_background": "light"
     },
     "output_type": "display_data"
    }
   ],
   "source": [
    "first_layer_num  = 40 #第1層, 40個neuro\n",
    "second_layer_num = 40 #第2層, 40個neuro\n",
    "third_layer_num = 40 #第3層, 40個neuro\n",
    "fourth_layer_num = 40 #第4層, 40個neuro\n",
    "fifth_layer_num = 40 #第5層, 40個neuro\n",
    "epochs = 100\n",
    "\n",
    "x_holder = tf.placeholder(tf.float32, shape = (data_dimen,data_num))\n",
    "y_holder = tf.placeholder(tf.float32, shape = (data_dimen,data_num))\n",
    "\n",
    "first_layer  = tf.layers.dense(inputs = x_holder, units = first_layer_num, activation =  tf.nn.relu)\n",
    "second_layer = tf.layers.dense(inputs = first_layer, units = second_layer_num, activation =  tf.nn.relu)\n",
    "third_layer  = tf.layers.dense(inputs = second_layer, units = third_layer_num, activation =  tf.nn.relu)\n",
    "fourth_layer = tf.layers.dense(inputs = third_layer, units = fourth_layer_num, activation =  tf.nn.relu)\n",
    "fifth_layer  = tf.layers.dense(inputs = fourth_layer, units = fifth_layer_num, activation =  tf.nn.relu)\n",
    "y_pred = tf.layers.dense(inputs = fifth_layer, units = data_num)\n",
    "\n",
    "loss = tf.losses.mean_squared_error(y_pred, y_holder)\n",
    "optimizer = tf.train.AdamOptimizer()  #GradientDescentOptimizer\n",
    "updates = optimizer.minimize(loss)\n",
    "\n",
    "with tf.Session() as sess:\n",
    "    sess.run(tf.global_variables_initializer())\n",
    "    value_dict = { x_holder: x_train, y_holder: y_train }\n",
    "    for _ in range(epochs):\n",
    "        ud , loss_val, pred_val = sess.run([updates, loss, y_pred], feed_dict = { x_holder: x_test, y_holder: y_test })\n",
    "    \n",
    "    ud , loss_val, yp = sess.run([updates, loss, y_pred], feed_dict = { x_holder: x_test, y_holder: y_test })\n",
    "    case7_record = loss_val\n",
    "    print(\"--------------------------------------------\")\n",
    "    print(\"含這次的總紀錄: \")\n",
    "    print(case1_str, \": loss_val:\",case1_record)\n",
    "    print(case2_str, \": loss_val:\",case2_record)\n",
    "    print(case3_str, \": loss_val:\",case3_record)\n",
    "    print(case4_str, \": loss_val:\",case4_record)\n",
    "    print(case5_str, \": loss_val:\",case5_record)\n",
    "    print(case6_str, \": loss_val:\",case6_record)\n",
    "    print(case7_str, \": loss_val:\",case7_record)\n",
    "    print(\"--------------------------------------------\")\n",
    "    \n",
    "    plt.xlabel('x-value')\n",
    "    plt.ylabel('y-value')\n",
    "    plt.title(case7_str)\n",
    "    plt.scatter( list(x for x in x_test), list(y for y in y_test) ,color = 'blue',label='Function')\n",
    "    plt.scatter( list(x for x in x_test), list(x for x in pred_val) ,color = 'red', label='Predict')\n",
    "    plt.legend()\n",
    "    plt.show()"
   ]
  },
  {
   "cell_type": "markdown",
   "metadata": {},
   "source": [
    "##### 從上圖可以看到\n",
    "##### 五層 每層各40顆 在 -20 ~ +20 的範圍\n",
    "##### 預測結果已經很接近 單層1000顆了\n",
    "---"
   ]
  },
  {
   "cell_type": "markdown",
   "metadata": {},
   "source": [
    "---\n",
    "####  HW PART 2:\n",
    "##### 利用 tensorflow 撰寫一個神經網路針對產生的資料集做分類。\n",
    "##### 將此一神經網路所判斷不同類別的區域分別塗上不同顏色。\n",
    "##### 並且將資料集的資料也標示於圖上。\n",
    "---"
   ]
  },
  {
   "cell_type": "markdown",
   "metadata": {},
   "source": [
    "##### 先根據作業要求給出的程式碼，產生二元資料集\n",
    "##### 然後使用 np_utils.to_categorical 將資料的label \n",
    "##### 以one-hot方式變成二列，以利之後計算 cross entropy"
   ]
  },
  {
   "cell_type": "code",
   "execution_count": 10,
   "metadata": {},
   "outputs": [
    {
     "name": "stderr",
     "output_type": "stream",
     "text": [
      "Using TensorFlow backend.\n"
     ]
    }
   ],
   "source": [
    "from sklearn import datasets\n",
    "from keras.utils import np_utils\n",
    "data_num = 50\n",
    "circles_data, circles_data_labels = datasets.make_circles(n_samples = 50, factor = 0.1, noise = 0.1)\n",
    "data_labels_onehot = np_utils.to_categorical(circles_data_labels)"
   ]
  },
  {
   "cell_type": "markdown",
   "metadata": {},
   "source": [
    "---\n",
    "##### 下面定義用來畫點的function"
   ]
  },
  {
   "cell_type": "code",
   "execution_count": 11,
   "metadata": {},
   "outputs": [],
   "source": [
    "def plot_dataset(X, y, axes):\n",
    "    plt.plot(X[y==0][:,0], X[y==0][:,1], 'bs')\n",
    "    plt.plot(X[y==1][:,0], X[y==1][:,1], 'r^')\n",
    "    plt.grid()\n",
    "    plt.axis(axes)"
   ]
  },
  {
   "cell_type": "markdown",
   "metadata": {},
   "source": [
    "---\n",
    "##### 依據老師要求，使用 tensor flow 架出結構。\n",
    "##### 先定義這次的神經網路架構:\n",
    "##### 我們內部使用兩層，各50顆，activation-function 使用 relu\n",
    "##### 最後面再接一層，只有2顆，activation-function 使用 sigmoid\n",
    "##### loss function 使用 softmax_cross_entropy_with_logits\n",
    "##### optimizer 使用 AdamOptimizer"
   ]
  },
  {
   "cell_type": "code",
   "execution_count": 12,
   "metadata": {},
   "outputs": [
    {
     "name": "stdout",
     "output_type": "stream",
     "text": [
      "WARNING:tensorflow:Entity <bound method Dense.call of <tensorflow.python.layers.core.Dense object at 0x7f406c97f350>> could not be transformed and will be executed as-is. Please report this to the AutgoGraph team. When filing the bug, set the verbosity to 10 (on Linux, `export AUTOGRAPH_VERBOSITY=10`) and attach the full output. Cause: converting <bound method Dense.call of <tensorflow.python.layers.core.Dense object at 0x7f406c97f350>>: AssertionError: Bad argument number for Name: 3, expecting 4\n",
      "WARNING: Entity <bound method Dense.call of <tensorflow.python.layers.core.Dense object at 0x7f406c97f350>> could not be transformed and will be executed as-is. Please report this to the AutgoGraph team. When filing the bug, set the verbosity to 10 (on Linux, `export AUTOGRAPH_VERBOSITY=10`) and attach the full output. Cause: converting <bound method Dense.call of <tensorflow.python.layers.core.Dense object at 0x7f406c97f350>>: AssertionError: Bad argument number for Name: 3, expecting 4\n",
      "WARNING:tensorflow:Entity <bound method Dense.call of <tensorflow.python.layers.core.Dense object at 0x7f406cd485d0>> could not be transformed and will be executed as-is. Please report this to the AutgoGraph team. When filing the bug, set the verbosity to 10 (on Linux, `export AUTOGRAPH_VERBOSITY=10`) and attach the full output. Cause: converting <bound method Dense.call of <tensorflow.python.layers.core.Dense object at 0x7f406cd485d0>>: AssertionError: Bad argument number for Name: 3, expecting 4\n",
      "WARNING: Entity <bound method Dense.call of <tensorflow.python.layers.core.Dense object at 0x7f406cd485d0>> could not be transformed and will be executed as-is. Please report this to the AutgoGraph team. When filing the bug, set the verbosity to 10 (on Linux, `export AUTOGRAPH_VERBOSITY=10`) and attach the full output. Cause: converting <bound method Dense.call of <tensorflow.python.layers.core.Dense object at 0x7f406cd485d0>>: AssertionError: Bad argument number for Name: 3, expecting 4\n",
      "WARNING:tensorflow:Entity <bound method Dense.call of <tensorflow.python.layers.core.Dense object at 0x7f40c8144110>> could not be transformed and will be executed as-is. Please report this to the AutgoGraph team. When filing the bug, set the verbosity to 10 (on Linux, `export AUTOGRAPH_VERBOSITY=10`) and attach the full output. Cause: converting <bound method Dense.call of <tensorflow.python.layers.core.Dense object at 0x7f40c8144110>>: AssertionError: Bad argument number for Name: 3, expecting 4\n",
      "WARNING: Entity <bound method Dense.call of <tensorflow.python.layers.core.Dense object at 0x7f40c8144110>> could not be transformed and will be executed as-is. Please report this to the AutgoGraph team. When filing the bug, set the verbosity to 10 (on Linux, `export AUTOGRAPH_VERBOSITY=10`) and attach the full output. Cause: converting <bound method Dense.call of <tensorflow.python.layers.core.Dense object at 0x7f40c8144110>>: AssertionError: Bad argument number for Name: 3, expecting 4\n",
      "WARNING:tensorflow:From <ipython-input-12-8e3bdd5e2c9d>:17: softmax_cross_entropy_with_logits (from tensorflow.python.ops.nn_ops) is deprecated and will be removed in a future version.\n",
      "Instructions for updating:\n",
      "\n",
      "Future major versions of TensorFlow will allow gradients to flow\n",
      "into the labels input on backprop by default.\n",
      "\n",
      "See `tf.nn.softmax_cross_entropy_with_logits_v2`.\n",
      "\n"
     ]
    },
    {
     "data": {
      "image/png": "[encoded data removed]",
      "text/plain": [
       "<Figure size 432x288 with 1 Axes>"
      ]
     },
     "metadata": {
      "needs_background": "light"
     },
     "output_type": "display_data"
    }
   ],
   "source": [
    "data_dimen = 2 #資料維度是2, 就是1組 (x,y)\n",
    "data_num = 50  #一次丟50組 (x,y)\n",
    "\n",
    "fst_layer_num = 50 #第1層, 50個neuro\n",
    "sec_layer_num = 50 #第2層, 50個neuro\n",
    "epochs = 50\n",
    "case1_record = 0; \n",
    "case1_str = \"2-layer-50-neurons CLASSIFICATION\"\n",
    "\n",
    "x_holder = tf.placeholder(tf.float32, shape = (None,data_dimen))\n",
    "y_holder = tf.placeholder(tf.float32, shape = (None,data_dimen))\n",
    "\n",
    "fst_layer = tf.layers.dense(inputs = x_holder,  units = fst_layer_num, activation =  tf.nn.relu)\n",
    "sec_layer = tf.layers.dense(inputs = fst_layer, units = sec_layer_num, activation =  tf.nn.relu)\n",
    "y_pred = tf.layers.dense(inputs = sec_layer, units = data_dimen, activation =  tf.nn.sigmoid)\n",
    "\n",
    "loss = tf.nn.softmax_cross_entropy_with_logits(labels = y_holder, logits = y_pred)\n",
    "optimizer = tf.train.AdamOptimizer()\n",
    "updates = optimizer.minimize(loss)\n",
    "\n",
    "with tf.Session() as sess:\n",
    "    sess.run(tf.global_variables_initializer())\n",
    "    value_dict = { x_holder: circles_data, y_holder: data_labels_onehot }\n",
    "    #train model\n",
    "    for _ in range(epochs): \n",
    "        ud , loss_val, pred_val = sess.run([updates, loss, y_pred], feed_dict = value_dict)\n",
    "\n",
    "    #準備用等高線的方式畫面積，先產生夠多的平均分佈點\n",
    "    x0s = np.linspace(-1.5, 1.5 , 200)\n",
    "    x1s = np.linspace(-1.5, 1.5, 200)\n",
    "    x0, x1 = np.meshgrid(x0s, x1s)\n",
    "    X = np.c_[x0.ravel(), x1.ravel()]\n",
    "    #丟進去model預測\n",
    "    y_pred = sess.run([y_pred], feed_dict = { x_holder: X})\n",
    "    #轉成只有0,1的結果\n",
    "    one_zero_pred = []\n",
    "    for i in range(len(y_pred)):\n",
    "        for j in range(len(y_pred[i])):\n",
    "            one_zero_pred.append (0. if y_pred[i][j][0]>y_pred[i][j][1] else 1.)\n",
    "    #轉成可以畫圖的形狀\n",
    "    one_zero_pred = np.array(one_zero_pred)\n",
    "    one_zero_pred = one_zero_pred.reshape(x0.shape)\n",
    "    #畫圖\n",
    "    plt.title(case1_str)\n",
    "    plt.contourf(x0, x1, one_zero_pred, cmap=plt.cm.brg, alpha=0.2)\n",
    "    plot_dataset(circles_data, circles_data_labels, [-1.5, 1.5, -1.5, 1.5])"
   ]
  },
  {
   "cell_type": "markdown",
   "metadata": {},
   "source": [
    "##### 顏色分佈是預測的結果\n",
    "##### 藍紅點則是原本的正確答案\n",
    "##### 從最後的圖可以看到，\n",
    "##### 以目前的神經網路架構與訓練方式\n",
    "##### 可以描繪出大致的分界範圍\n",
    "##### 但在邊緣處仍 沒有 非常準確\n",
    "##### 有些藍色區域仍有紅色的點\n",
    "---"
   ]
  },
  {
   "cell_type": "markdown",
   "metadata": {},
   "source": [
    "##### 我們試試把神經元數目提高\n",
    "##### 改成內部兩層都100顆"
   ]
  },
  {
   "cell_type": "code",
   "execution_count": 13,
   "metadata": {},
   "outputs": [
    {
     "name": "stdout",
     "output_type": "stream",
     "text": [
      "WARNING:tensorflow:Entity <bound method Dense.call of <tensorflow.python.layers.core.Dense object at 0x7f406e6c5250>> could not be transformed and will be executed as-is. Please report this to the AutgoGraph team. When filing the bug, set the verbosity to 10 (on Linux, `export AUTOGRAPH_VERBOSITY=10`) and attach the full output. Cause: converting <bound method Dense.call of <tensorflow.python.layers.core.Dense object at 0x7f406e6c5250>>: AssertionError: Bad argument number for Name: 3, expecting 4\n",
      "WARNING: Entity <bound method Dense.call of <tensorflow.python.layers.core.Dense object at 0x7f406e6c5250>> could not be transformed and will be executed as-is. Please report this to the AutgoGraph team. When filing the bug, set the verbosity to 10 (on Linux, `export AUTOGRAPH_VERBOSITY=10`) and attach the full output. Cause: converting <bound method Dense.call of <tensorflow.python.layers.core.Dense object at 0x7f406e6c5250>>: AssertionError: Bad argument number for Name: 3, expecting 4\n",
      "WARNING:tensorflow:Entity <bound method Dense.call of <tensorflow.python.layers.core.Dense object at 0x7f406e6c5390>> could not be transformed and will be executed as-is. Please report this to the AutgoGraph team. When filing the bug, set the verbosity to 10 (on Linux, `export AUTOGRAPH_VERBOSITY=10`) and attach the full output. Cause: converting <bound method Dense.call of <tensorflow.python.layers.core.Dense object at 0x7f406e6c5390>>: AssertionError: Bad argument number for Name: 3, expecting 4\n",
      "WARNING: Entity <bound method Dense.call of <tensorflow.python.layers.core.Dense object at 0x7f406e6c5390>> could not be transformed and will be executed as-is. Please report this to the AutgoGraph team. When filing the bug, set the verbosity to 10 (on Linux, `export AUTOGRAPH_VERBOSITY=10`) and attach the full output. Cause: converting <bound method Dense.call of <tensorflow.python.layers.core.Dense object at 0x7f406e6c5390>>: AssertionError: Bad argument number for Name: 3, expecting 4\n",
      "WARNING:tensorflow:Entity <bound method Dense.call of <tensorflow.python.layers.core.Dense object at 0x7f406e6c5250>> could not be transformed and will be executed as-is. Please report this to the AutgoGraph team. When filing the bug, set the verbosity to 10 (on Linux, `export AUTOGRAPH_VERBOSITY=10`) and attach the full output. Cause: converting <bound method Dense.call of <tensorflow.python.layers.core.Dense object at 0x7f406e6c5250>>: AssertionError: Bad argument number for Name: 3, expecting 4\n",
      "WARNING: Entity <bound method Dense.call of <tensorflow.python.layers.core.Dense object at 0x7f406e6c5250>> could not be transformed and will be executed as-is. Please report this to the AutgoGraph team. When filing the bug, set the verbosity to 10 (on Linux, `export AUTOGRAPH_VERBOSITY=10`) and attach the full output. Cause: converting <bound method Dense.call of <tensorflow.python.layers.core.Dense object at 0x7f406e6c5250>>: AssertionError: Bad argument number for Name: 3, expecting 4\n"
     ]
    },
    {
     "data": {
      "image/png": "[encoded data removed]",
      "text/plain": [
       "<Figure size 432x288 with 1 Axes>"
      ]
     },
     "metadata": {
      "needs_background": "light"
     },
     "output_type": "display_data"
    }
   ],
   "source": [
    "data_dimen = 2 #資料維度是2, 就是1組 (x,y)\n",
    "data_num = 50  #一次丟50組 (x,y)\n",
    "\n",
    "fst_layer_num = 100 #第1層, 50個neuro\n",
    "sec_layer_num = 100 #第2層, 50個neuro\n",
    "epochs = 50\n",
    "case1_record = 0; \n",
    "case1_str = \"2-layer-50-neurons CLASSIFICATION\"\n",
    "\n",
    "x_holder = tf.placeholder(tf.float32, shape = (None,data_dimen))\n",
    "y_holder = tf.placeholder(tf.float32, shape = (None,data_dimen))\n",
    "\n",
    "fst_layer = tf.layers.dense(inputs = x_holder,  units = fst_layer_num, activation =  tf.nn.relu)\n",
    "sec_layer = tf.layers.dense(inputs = fst_layer, units = sec_layer_num, activation =  tf.nn.relu)\n",
    "y_pred = tf.layers.dense(inputs = sec_layer, units = data_dimen, activation =  tf.nn.sigmoid)\n",
    "\n",
    "loss = tf.nn.softmax_cross_entropy_with_logits(labels = y_holder, logits = y_pred)\n",
    "optimizer = tf.train.AdamOptimizer()\n",
    "updates = optimizer.minimize(loss)\n",
    "\n",
    "with tf.Session() as sess:\n",
    "    sess.run(tf.global_variables_initializer())\n",
    "    value_dict = { x_holder: circles_data, y_holder: data_labels_onehot }\n",
    "    #train model\n",
    "    for _ in range(epochs): \n",
    "        ud , loss_val, pred_val = sess.run([updates, loss, y_pred], feed_dict = value_dict)\n",
    "\n",
    "    #準備用等高線的方式畫面積，先產生夠多的平均分佈點\n",
    "    x0s = np.linspace(-1.5, 1.5 , 200)\n",
    "    x1s = np.linspace(-1.5, 1.5, 200)\n",
    "    x0, x1 = np.meshgrid(x0s, x1s)\n",
    "    X = np.c_[x0.ravel(), x1.ravel()]\n",
    "    #丟進去model預測\n",
    "    y_pred = sess.run([y_pred], feed_dict = { x_holder: X})\n",
    "    #轉成只有0,1的結果\n",
    "    one_zero_pred = []\n",
    "    for i in range(len(y_pred)):\n",
    "        for j in range(len(y_pred[i])):\n",
    "            one_zero_pred.append (0. if y_pred[i][j][0]>y_pred[i][j][1] else 1.)\n",
    "    #轉成可以畫圖的形狀\n",
    "    one_zero_pred = np.array(one_zero_pred)\n",
    "    one_zero_pred = one_zero_pred.reshape(x0.shape)\n",
    "    #畫圖\n",
    "    plt.title(case1_str)\n",
    "    plt.contourf(x0, x1, one_zero_pred, cmap=plt.cm.brg, alpha=0.2)\n",
    "    plot_dataset(circles_data, circles_data_labels, [-1.5, 1.5, -1.5, 1.5])"
   ]
  },
  {
   "cell_type": "markdown",
   "metadata": {},
   "source": [
    "##### 可以看到神經元增加後\n",
    "##### 預測的邊界範圍有變準\n",
    "---"
   ]
  },
  {
   "cell_type": "code",
   "execution_count": null,
   "metadata": {},
   "outputs": [],
   "source": []
  }
 ],
 "metadata": {
  "kernelspec": {
   "display_name": "Python 3",
   "language": "python",
   "name": "python3"
  },
  "language_info": {
   "codemirror_mode": {
    "name": "ipython",
    "version": 3
   },
   "file_extension": ".py",
   "mimetype": "text/x-python",
   "name": "python",
   "nbconvert_exporter": "python",
   "pygments_lexer": "ipython3",
   "version": "3.7.4"
  }
 },
 "nbformat": 4,
 "nbformat_minor": 4
}
